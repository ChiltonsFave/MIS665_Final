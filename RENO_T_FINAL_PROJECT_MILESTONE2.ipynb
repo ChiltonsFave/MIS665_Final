{
 "cells": [
  {
   "cell_type": "markdown",
   "metadata": {},
   "source": [
    "# Tyler Reno\n",
    "K-State Honor Code \"On my honor, as a student, I have neither given nor received unauthorized aid on this academic work.\""
   ]
  },
  {
   "cell_type": "code",
   "execution_count": 125,
   "metadata": {
    "collapsed": true
   },
   "outputs": [],
   "source": [
    "import numpy as np\n",
    "import pandas as pd\n",
    "import matplotlib.pyplot as plt\n",
    "import seaborn as sns\n",
    "import scipy.stats as stats\n",
    "%matplotlib inline\n",
    "\n",
    "#import decisiontreeclassifier\n",
    "from sklearn import tree\n",
    "from sklearn.tree import DecisionTreeClassifier\n",
    "#import logisticregression classifier\n",
    "from sklearn.linear_model import LogisticRegression\n",
    "import statsmodels.api as sm\n",
    "#import knn classifier\n",
    "from sklearn.neighbors import KNeighborsClassifier\n",
    "\n",
    "from sklearn import svm\n",
    "from sklearn.neural_network import MLPClassifier\n",
    "\n",
    "\n",
    "#ensemble classifier\n",
    "from sklearn.ensemble import RandomForestClassifier\n",
    "from sklearn.ensemble import GradientBoostingClassifier  #GBM algorithm\n",
    "\n",
    "from sklearn.metrics import classification_report, f1_score, accuracy_score, confusion_matrix\n",
    "from sklearn.model_selection import StratifiedKFold, cross_val_score, train_test_split, GridSearchCV, RandomizedSearchCV \n",
    "from sklearn import metrics\n",
    "from sklearn.metrics import roc_auc_score, auc\n",
    "\n",
    "# feature selection\n",
    "from sklearn.feature_selection import RFE\n",
    "from sklearn.ensemble import ExtraTreesClassifier\n",
    "from sklearn.feature_selection import SelectKBest\n",
    "from sklearn.feature_selection import chi2"
   ]
  },
  {
   "cell_type": "markdown",
   "metadata": {},
   "source": [
    "# Business and Data Understanding"
   ]
  },
  {
   "cell_type": "markdown",
   "metadata": {},
   "source": [
    "The purpose of this project is to analyze data regarding season ticket holders in order to predict which ticket holders are most likely not to renew their season tickets.  Kansas State University is interested in retaining as many season ticket holders as possible, so some insight into this information could be very valuable to them.  They have limited resources to contact their season ticket holders, so being able to identify which ticket holders are most likely not to renew for next year would allow them to focus their resources on those specific individuals and maximize their efficiency. \n",
    "\n",
    "The data being analyzed is (supposedly) Kansas State University's existing information on their current season pass holders.  There is quite a bit of missing data and some fields will need to be consolidated, but there appears to be enough useful information to develop a helpful model."
   ]
  },
  {
   "cell_type": "markdown",
   "metadata": {},
   "source": [
    "# Data Processing"
   ]
  },
  {
   "cell_type": "markdown",
   "metadata": {},
   "source": [
    "###### Reading Data"
   ]
  },
  {
   "cell_type": "code",
   "execution_count": 126,
   "metadata": {},
   "outputs": [
    {
     "data": {
      "text/html": [
       "<div>\n",
       "<style>\n",
       "    .dataframe thead tr:only-child th {\n",
       "        text-align: right;\n",
       "    }\n",
       "\n",
       "    .dataframe thead th {\n",
       "        text-align: left;\n",
       "    }\n",
       "\n",
       "    .dataframe tbody tr th {\n",
       "        vertical-align: top;\n",
       "    }\n",
       "</style>\n",
       "<table border=\"1\" class=\"dataframe\">\n",
       "  <thead>\n",
       "    <tr style=\"text-align: right;\">\n",
       "      <th></th>\n",
       "      <th>FAKEID</th>\n",
       "      <th>Y2defect</th>\n",
       "      <th>Y1G5</th>\n",
       "      <th>Y1G4</th>\n",
       "      <th>Y1G3</th>\n",
       "      <th>Y1G2</th>\n",
       "      <th>Y1G1</th>\n",
       "      <th>Y1price</th>\n",
       "      <th>YEARS</th>\n",
       "      <th>BACKER</th>\n",
       "      <th>AGE</th>\n",
       "      <th>INCOME</th>\n",
       "      <th>CHILD</th>\n",
       "      <th>GNDR</th>\n",
       "      <th>OWNHOME</th>\n",
       "      <th>SPORT</th>\n",
       "      <th>COMP</th>\n",
       "      <th>PCTMARR</th>\n",
       "      <th>HOMEVAL</th>\n",
       "    </tr>\n",
       "  </thead>\n",
       "  <tbody>\n",
       "    <tr>\n",
       "      <th>0</th>\n",
       "      <td>580V74KT</td>\n",
       "      <td>0</td>\n",
       "      <td>0</td>\n",
       "      <td>0</td>\n",
       "      <td>1</td>\n",
       "      <td>1</td>\n",
       "      <td>1</td>\n",
       "      <td>15</td>\n",
       "      <td>8</td>\n",
       "      <td>1</td>\n",
       "      <td>94</td>\n",
       "      <td>4</td>\n",
       "      <td>NaN</td>\n",
       "      <td>0</td>\n",
       "      <td>1</td>\n",
       "      <td>NaN</td>\n",
       "      <td></td>\n",
       "      <td>77</td>\n",
       "      <td>203</td>\n",
       "    </tr>\n",
       "    <tr>\n",
       "      <th>1</th>\n",
       "      <td>298S54OK</td>\n",
       "      <td>1</td>\n",
       "      <td>0</td>\n",
       "      <td>0</td>\n",
       "      <td>1</td>\n",
       "      <td>0</td>\n",
       "      <td>1</td>\n",
       "      <td>15</td>\n",
       "      <td>3</td>\n",
       "      <td>1</td>\n",
       "      <td></td>\n",
       "      <td></td>\n",
       "      <td>NaN</td>\n",
       "      <td>0</td>\n",
       "      <td>0</td>\n",
       "      <td>NaN</td>\n",
       "      <td>1</td>\n",
       "      <td>53</td>\n",
       "      <td>68</td>\n",
       "    </tr>\n",
       "    <tr>\n",
       "      <th>2</th>\n",
       "      <td>268D25AO</td>\n",
       "      <td>1</td>\n",
       "      <td>1</td>\n",
       "      <td>0</td>\n",
       "      <td>0</td>\n",
       "      <td>0</td>\n",
       "      <td>1</td>\n",
       "      <td>15</td>\n",
       "      <td>11</td>\n",
       "      <td>1</td>\n",
       "      <td>67</td>\n",
       "      <td>2</td>\n",
       "      <td>NaN</td>\n",
       "      <td>0</td>\n",
       "      <td>1</td>\n",
       "      <td>0.0</td>\n",
       "      <td></td>\n",
       "      <td>50</td>\n",
       "      <td>38</td>\n",
       "    </tr>\n",
       "    <tr>\n",
       "      <th>3</th>\n",
       "      <td>312Q12WV</td>\n",
       "      <td>1</td>\n",
       "      <td>1</td>\n",
       "      <td>0</td>\n",
       "      <td>1</td>\n",
       "      <td>0</td>\n",
       "      <td>1</td>\n",
       "      <td>15</td>\n",
       "      <td>4</td>\n",
       "      <td>0</td>\n",
       "      <td>62</td>\n",
       "      <td>4</td>\n",
       "      <td></td>\n",
       "      <td>1</td>\n",
       "      <td>1</td>\n",
       "      <td>0.0</td>\n",
       "      <td>1</td>\n",
       "      <td>60</td>\n",
       "      <td>68</td>\n",
       "    </tr>\n",
       "    <tr>\n",
       "      <th>4</th>\n",
       "      <td>420R23VB</td>\n",
       "      <td>0</td>\n",
       "      <td>0</td>\n",
       "      <td>0</td>\n",
       "      <td>1</td>\n",
       "      <td>0</td>\n",
       "      <td>0</td>\n",
       "      <td>15</td>\n",
       "      <td>5</td>\n",
       "      <td>0</td>\n",
       "      <td>89</td>\n",
       "      <td>4</td>\n",
       "      <td></td>\n",
       "      <td>1</td>\n",
       "      <td>1</td>\n",
       "      <td>0.0</td>\n",
       "      <td></td>\n",
       "      <td>65</td>\n",
       "      <td>194</td>\n",
       "    </tr>\n",
       "  </tbody>\n",
       "</table>\n",
       "</div>"
      ],
      "text/plain": [
       "     FAKEID  Y2defect  Y1G5  Y1G4  Y1G3  Y1G2  Y1G1  Y1price  YEARS  BACKER  \\\n",
       "0  580V74KT         0     0     0     1     1     1       15      8       1   \n",
       "1  298S54OK         1     0     0     1     0     1       15      3       1   \n",
       "2  268D25AO         1     1     0     0     0     1       15     11       1   \n",
       "3  312Q12WV         1     1     0     1     0     1       15      4       0   \n",
       "4  420R23VB         0     0     0     1     0     0       15      5       0   \n",
       "\n",
       "  AGE INCOME CHILD GNDR OWNHOME  SPORT COMP  PCTMARR  HOMEVAL  \n",
       "0  94      4   NaN    0       1    NaN            77      203  \n",
       "1              NaN    0       0    NaN    1       53       68  \n",
       "2  67      2   NaN    0       1    0.0            50       38  \n",
       "3  62      4          1       1    0.0    1       60       68  \n",
       "4  89      4          1       1    0.0            65      194  "
      ]
     },
     "execution_count": 126,
     "metadata": {},
     "output_type": "execute_result"
    }
   ],
   "source": [
    "df=pd.read_excel(\"train_test_dataset.xlsx\")\n",
    "df.head()"
   ]
  },
  {
   "cell_type": "code",
   "execution_count": 127,
   "metadata": {},
   "outputs": [
    {
     "name": "stdout",
     "output_type": "stream",
     "text": [
      "<class 'pandas.core.frame.DataFrame'>\n",
      "RangeIndex: 9216 entries, 0 to 9215\n",
      "Data columns (total 19 columns):\n",
      "FAKEID      9216 non-null object\n",
      "Y2defect    9216 non-null int64\n",
      "Y1G5        9216 non-null int64\n",
      "Y1G4        9216 non-null int64\n",
      "Y1G3        9216 non-null int64\n",
      "Y1G2        9216 non-null int64\n",
      "Y1G1        9216 non-null int64\n",
      "Y1price     9216 non-null int64\n",
      "YEARS       9216 non-null int64\n",
      "BACKER      9216 non-null int64\n",
      "AGE         9216 non-null object\n",
      "INCOME      9216 non-null object\n",
      "CHILD       4549 non-null object\n",
      "GNDR        9216 non-null object\n",
      "OWNHOME     9216 non-null object\n",
      "SPORT       4273 non-null float64\n",
      "COMP        9216 non-null object\n",
      "PCTMARR     9216 non-null int64\n",
      "HOMEVAL     9216 non-null int64\n",
      "dtypes: float64(1), int64(11), object(7)\n",
      "memory usage: 1.3+ MB\n"
     ]
    }
   ],
   "source": [
    "df.info()"
   ]
  },
  {
   "cell_type": "markdown",
   "metadata": {},
   "source": [
    "###### Cleaning Data"
   ]
  },
  {
   "cell_type": "code",
   "execution_count": 128,
   "metadata": {
    "collapsed": true
   },
   "outputs": [],
   "source": [
    "#Consolidating number of games attended\n",
    "\n",
    "df['GAMES_ATTENDED'] = df['Y1G1'] + df['Y1G2'] + df['Y1G3'] + df['Y1G4'] + df['Y1G5']\n",
    "df = df.drop(['Y1G1', 'Y1G2', 'Y1G3', 'Y1G4', 'Y1G5'], axis=1)"
   ]
  },
  {
   "cell_type": "code",
   "execution_count": 129,
   "metadata": {},
   "outputs": [
    {
     "data": {
      "text/html": [
       "<div>\n",
       "<style>\n",
       "    .dataframe thead tr:only-child th {\n",
       "        text-align: right;\n",
       "    }\n",
       "\n",
       "    .dataframe thead th {\n",
       "        text-align: left;\n",
       "    }\n",
       "\n",
       "    .dataframe tbody tr th {\n",
       "        vertical-align: top;\n",
       "    }\n",
       "</style>\n",
       "<table border=\"1\" class=\"dataframe\">\n",
       "  <thead>\n",
       "    <tr style=\"text-align: right;\">\n",
       "      <th></th>\n",
       "      <th>FAKEID</th>\n",
       "      <th>Y2defect</th>\n",
       "      <th>Y1price</th>\n",
       "      <th>YEARS</th>\n",
       "      <th>BACKER</th>\n",
       "      <th>AGE</th>\n",
       "      <th>INCOME</th>\n",
       "      <th>CHILD</th>\n",
       "      <th>GNDR</th>\n",
       "      <th>OWNHOME</th>\n",
       "      <th>SPORT</th>\n",
       "      <th>COMP</th>\n",
       "      <th>PCTMARR</th>\n",
       "      <th>HOMEVAL</th>\n",
       "      <th>GAMES_ATTENDED</th>\n",
       "    </tr>\n",
       "  </thead>\n",
       "  <tbody>\n",
       "    <tr>\n",
       "      <th>0</th>\n",
       "      <td>580V74KT</td>\n",
       "      <td>0</td>\n",
       "      <td>15</td>\n",
       "      <td>8</td>\n",
       "      <td>1</td>\n",
       "      <td>94.0</td>\n",
       "      <td>4.0</td>\n",
       "      <td>NaN</td>\n",
       "      <td>0.0</td>\n",
       "      <td>1.0</td>\n",
       "      <td>NaN</td>\n",
       "      <td>NaN</td>\n",
       "      <td>77</td>\n",
       "      <td>203</td>\n",
       "      <td>3</td>\n",
       "    </tr>\n",
       "    <tr>\n",
       "      <th>1</th>\n",
       "      <td>298S54OK</td>\n",
       "      <td>1</td>\n",
       "      <td>15</td>\n",
       "      <td>3</td>\n",
       "      <td>1</td>\n",
       "      <td>NaN</td>\n",
       "      <td>NaN</td>\n",
       "      <td>NaN</td>\n",
       "      <td>0.0</td>\n",
       "      <td>0.0</td>\n",
       "      <td>NaN</td>\n",
       "      <td>1.0</td>\n",
       "      <td>53</td>\n",
       "      <td>68</td>\n",
       "      <td>2</td>\n",
       "    </tr>\n",
       "    <tr>\n",
       "      <th>2</th>\n",
       "      <td>268D25AO</td>\n",
       "      <td>1</td>\n",
       "      <td>15</td>\n",
       "      <td>11</td>\n",
       "      <td>1</td>\n",
       "      <td>67.0</td>\n",
       "      <td>2.0</td>\n",
       "      <td>NaN</td>\n",
       "      <td>0.0</td>\n",
       "      <td>1.0</td>\n",
       "      <td>0.0</td>\n",
       "      <td>NaN</td>\n",
       "      <td>50</td>\n",
       "      <td>38</td>\n",
       "      <td>2</td>\n",
       "    </tr>\n",
       "    <tr>\n",
       "      <th>3</th>\n",
       "      <td>312Q12WV</td>\n",
       "      <td>1</td>\n",
       "      <td>15</td>\n",
       "      <td>4</td>\n",
       "      <td>0</td>\n",
       "      <td>62.0</td>\n",
       "      <td>4.0</td>\n",
       "      <td>NaN</td>\n",
       "      <td>1.0</td>\n",
       "      <td>1.0</td>\n",
       "      <td>0.0</td>\n",
       "      <td>1.0</td>\n",
       "      <td>60</td>\n",
       "      <td>68</td>\n",
       "      <td>3</td>\n",
       "    </tr>\n",
       "    <tr>\n",
       "      <th>4</th>\n",
       "      <td>420R23VB</td>\n",
       "      <td>0</td>\n",
       "      <td>15</td>\n",
       "      <td>5</td>\n",
       "      <td>0</td>\n",
       "      <td>89.0</td>\n",
       "      <td>4.0</td>\n",
       "      <td>NaN</td>\n",
       "      <td>1.0</td>\n",
       "      <td>1.0</td>\n",
       "      <td>0.0</td>\n",
       "      <td>NaN</td>\n",
       "      <td>65</td>\n",
       "      <td>194</td>\n",
       "      <td>1</td>\n",
       "    </tr>\n",
       "  </tbody>\n",
       "</table>\n",
       "</div>"
      ],
      "text/plain": [
       "     FAKEID  Y2defect  Y1price  YEARS  BACKER   AGE  INCOME  CHILD  GNDR  \\\n",
       "0  580V74KT         0       15      8       1  94.0     4.0    NaN   0.0   \n",
       "1  298S54OK         1       15      3       1   NaN     NaN    NaN   0.0   \n",
       "2  268D25AO         1       15     11       1  67.0     2.0    NaN   0.0   \n",
       "3  312Q12WV         1       15      4       0  62.0     4.0    NaN   1.0   \n",
       "4  420R23VB         0       15      5       0  89.0     4.0    NaN   1.0   \n",
       "\n",
       "   OWNHOME  SPORT  COMP  PCTMARR  HOMEVAL  GAMES_ATTENDED  \n",
       "0      1.0    NaN   NaN       77      203               3  \n",
       "1      0.0    NaN   1.0       53       68               2  \n",
       "2      1.0    0.0   NaN       50       38               2  \n",
       "3      1.0    0.0   1.0       60       68               3  \n",
       "4      1.0    0.0   NaN       65      194               1  "
      ]
     },
     "execution_count": 129,
     "metadata": {},
     "output_type": "execute_result"
    }
   ],
   "source": [
    "#Replacing empty Strings with NaN's\n",
    "\n",
    "df = df.replace(r'\\s+',np.nan,regex=True)\n",
    "df.head()"
   ]
  },
  {
   "cell_type": "code",
   "execution_count": 130,
   "metadata": {},
   "outputs": [
    {
     "data": {
      "text/plain": [
       "FAKEID               0\n",
       "Y2defect             0\n",
       "Y1price              0\n",
       "YEARS                0\n",
       "BACKER               0\n",
       "AGE               1993\n",
       "INCOME            1944\n",
       "CHILD             8634\n",
       "GNDR               498\n",
       "OWNHOME           1999\n",
       "SPORT             4943\n",
       "COMP              8207\n",
       "PCTMARR              0\n",
       "HOMEVAL              0\n",
       "GAMES_ATTENDED       0\n",
       "dtype: int64"
      ]
     },
     "execution_count": 130,
     "metadata": {},
     "output_type": "execute_result"
    }
   ],
   "source": [
    "#Checking for null values\n",
    "\n",
    "df.isnull().sum()"
   ]
  },
  {
   "cell_type": "code",
   "execution_count": 131,
   "metadata": {
    "collapsed": true
   },
   "outputs": [],
   "source": [
    "#Dropping COMP and CHILD because they are mostly null\n",
    "\n",
    "df = df.drop(['COMP'], axis=1)\n",
    "df = df.drop(['CHILD'], axis=1)"
   ]
  },
  {
   "cell_type": "markdown",
   "metadata": {},
   "source": [
    "# Data Visualization"
   ]
  },
  {
   "cell_type": "code",
   "execution_count": 132,
   "metadata": {},
   "outputs": [
    {
     "data": {
      "text/html": [
       "<div>\n",
       "<style>\n",
       "    .dataframe thead tr:only-child th {\n",
       "        text-align: right;\n",
       "    }\n",
       "\n",
       "    .dataframe thead th {\n",
       "        text-align: left;\n",
       "    }\n",
       "\n",
       "    .dataframe tbody tr th {\n",
       "        vertical-align: top;\n",
       "    }\n",
       "</style>\n",
       "<table border=\"1\" class=\"dataframe\">\n",
       "  <thead>\n",
       "    <tr style=\"text-align: right;\">\n",
       "      <th></th>\n",
       "      <th>Y2defect</th>\n",
       "      <th>Y1price</th>\n",
       "      <th>YEARS</th>\n",
       "      <th>BACKER</th>\n",
       "      <th>AGE</th>\n",
       "      <th>INCOME</th>\n",
       "      <th>GNDR</th>\n",
       "      <th>OWNHOME</th>\n",
       "      <th>SPORT</th>\n",
       "      <th>PCTMARR</th>\n",
       "      <th>HOMEVAL</th>\n",
       "      <th>GAMES_ATTENDED</th>\n",
       "    </tr>\n",
       "  </thead>\n",
       "  <tbody>\n",
       "    <tr>\n",
       "      <th>count</th>\n",
       "      <td>9216.000000</td>\n",
       "      <td>9216.000000</td>\n",
       "      <td>9216.000000</td>\n",
       "      <td>9216.000000</td>\n",
       "      <td>7223.000000</td>\n",
       "      <td>7272.000000</td>\n",
       "      <td>8718.000000</td>\n",
       "      <td>7217.000000</td>\n",
       "      <td>4273.000000</td>\n",
       "      <td>9216.000000</td>\n",
       "      <td>9216.000000</td>\n",
       "      <td>9216.000000</td>\n",
       "    </tr>\n",
       "    <tr>\n",
       "      <th>mean</th>\n",
       "      <td>0.500000</td>\n",
       "      <td>19.963108</td>\n",
       "      <td>6.378038</td>\n",
       "      <td>0.489475</td>\n",
       "      <td>61.392912</td>\n",
       "      <td>2.882151</td>\n",
       "      <td>0.447236</td>\n",
       "      <td>0.718581</td>\n",
       "      <td>0.056869</td>\n",
       "      <td>58.228516</td>\n",
       "      <td>112.111220</td>\n",
       "      <td>2.255642</td>\n",
       "    </tr>\n",
       "    <tr>\n",
       "      <th>std</th>\n",
       "      <td>0.500027</td>\n",
       "      <td>8.820188</td>\n",
       "      <td>2.873927</td>\n",
       "      <td>0.499916</td>\n",
       "      <td>16.594747</td>\n",
       "      <td>1.843857</td>\n",
       "      <td>0.497237</td>\n",
       "      <td>0.449722</td>\n",
       "      <td>0.250085</td>\n",
       "      <td>12.902173</td>\n",
       "      <td>92.292223</td>\n",
       "      <td>1.054032</td>\n",
       "    </tr>\n",
       "    <tr>\n",
       "      <th>min</th>\n",
       "      <td>0.000000</td>\n",
       "      <td>15.000000</td>\n",
       "      <td>2.000000</td>\n",
       "      <td>0.000000</td>\n",
       "      <td>12.000000</td>\n",
       "      <td>0.000000</td>\n",
       "      <td>0.000000</td>\n",
       "      <td>0.000000</td>\n",
       "      <td>0.000000</td>\n",
       "      <td>0.000000</td>\n",
       "      <td>0.000000</td>\n",
       "      <td>1.000000</td>\n",
       "    </tr>\n",
       "    <tr>\n",
       "      <th>25%</th>\n",
       "      <td>0.000000</td>\n",
       "      <td>15.000000</td>\n",
       "      <td>4.000000</td>\n",
       "      <td>0.000000</td>\n",
       "      <td>48.000000</td>\n",
       "      <td>1.000000</td>\n",
       "      <td>0.000000</td>\n",
       "      <td>0.000000</td>\n",
       "      <td>0.000000</td>\n",
       "      <td>52.000000</td>\n",
       "      <td>56.000000</td>\n",
       "      <td>1.000000</td>\n",
       "    </tr>\n",
       "    <tr>\n",
       "      <th>50%</th>\n",
       "      <td>0.500000</td>\n",
       "      <td>15.000000</td>\n",
       "      <td>6.000000</td>\n",
       "      <td>0.000000</td>\n",
       "      <td>63.000000</td>\n",
       "      <td>3.000000</td>\n",
       "      <td>0.000000</td>\n",
       "      <td>1.000000</td>\n",
       "      <td>0.000000</td>\n",
       "      <td>61.000000</td>\n",
       "      <td>81.000000</td>\n",
       "      <td>2.000000</td>\n",
       "    </tr>\n",
       "    <tr>\n",
       "      <th>75%</th>\n",
       "      <td>1.000000</td>\n",
       "      <td>25.000000</td>\n",
       "      <td>9.000000</td>\n",
       "      <td>1.000000</td>\n",
       "      <td>75.000000</td>\n",
       "      <td>4.000000</td>\n",
       "      <td>1.000000</td>\n",
       "      <td>1.000000</td>\n",
       "      <td>0.000000</td>\n",
       "      <td>67.000000</td>\n",
       "      <td>132.000000</td>\n",
       "      <td>3.000000</td>\n",
       "    </tr>\n",
       "    <tr>\n",
       "      <th>max</th>\n",
       "      <td>1.000000</td>\n",
       "      <td>50.000000</td>\n",
       "      <td>24.000000</td>\n",
       "      <td>1.000000</td>\n",
       "      <td>97.000000</td>\n",
       "      <td>6.000000</td>\n",
       "      <td>1.000000</td>\n",
       "      <td>1.000000</td>\n",
       "      <td>3.000000</td>\n",
       "      <td>99.000000</td>\n",
       "      <td>600.000000</td>\n",
       "      <td>5.000000</td>\n",
       "    </tr>\n",
       "  </tbody>\n",
       "</table>\n",
       "</div>"
      ],
      "text/plain": [
       "          Y2defect      Y1price        YEARS       BACKER          AGE  \\\n",
       "count  9216.000000  9216.000000  9216.000000  9216.000000  7223.000000   \n",
       "mean      0.500000    19.963108     6.378038     0.489475    61.392912   \n",
       "std       0.500027     8.820188     2.873927     0.499916    16.594747   \n",
       "min       0.000000    15.000000     2.000000     0.000000    12.000000   \n",
       "25%       0.000000    15.000000     4.000000     0.000000    48.000000   \n",
       "50%       0.500000    15.000000     6.000000     0.000000    63.000000   \n",
       "75%       1.000000    25.000000     9.000000     1.000000    75.000000   \n",
       "max       1.000000    50.000000    24.000000     1.000000    97.000000   \n",
       "\n",
       "            INCOME         GNDR      OWNHOME        SPORT      PCTMARR  \\\n",
       "count  7272.000000  8718.000000  7217.000000  4273.000000  9216.000000   \n",
       "mean      2.882151     0.447236     0.718581     0.056869    58.228516   \n",
       "std       1.843857     0.497237     0.449722     0.250085    12.902173   \n",
       "min       0.000000     0.000000     0.000000     0.000000     0.000000   \n",
       "25%       1.000000     0.000000     0.000000     0.000000    52.000000   \n",
       "50%       3.000000     0.000000     1.000000     0.000000    61.000000   \n",
       "75%       4.000000     1.000000     1.000000     0.000000    67.000000   \n",
       "max       6.000000     1.000000     1.000000     3.000000    99.000000   \n",
       "\n",
       "           HOMEVAL  GAMES_ATTENDED  \n",
       "count  9216.000000     9216.000000  \n",
       "mean    112.111220        2.255642  \n",
       "std      92.292223        1.054032  \n",
       "min       0.000000        1.000000  \n",
       "25%      56.000000        1.000000  \n",
       "50%      81.000000        2.000000  \n",
       "75%     132.000000        3.000000  \n",
       "max     600.000000        5.000000  "
      ]
     },
     "execution_count": 132,
     "metadata": {},
     "output_type": "execute_result"
    }
   ],
   "source": [
    "#Viewing general data information\n",
    "\n",
    "df.describe()"
   ]
  },
  {
   "cell_type": "code",
   "execution_count": 133,
   "metadata": {},
   "outputs": [
    {
     "data": {
      "text/html": [
       "<div>\n",
       "<style>\n",
       "    .dataframe thead tr:only-child th {\n",
       "        text-align: right;\n",
       "    }\n",
       "\n",
       "    .dataframe thead th {\n",
       "        text-align: left;\n",
       "    }\n",
       "\n",
       "    .dataframe tbody tr th {\n",
       "        vertical-align: top;\n",
       "    }\n",
       "</style>\n",
       "<table border=\"1\" class=\"dataframe\">\n",
       "  <thead>\n",
       "    <tr style=\"text-align: right;\">\n",
       "      <th></th>\n",
       "      <th>AGE</th>\n",
       "      <th>BACKER</th>\n",
       "      <th>GAMES_ATTENDED</th>\n",
       "      <th>GNDR</th>\n",
       "      <th>HOMEVAL</th>\n",
       "      <th>INCOME</th>\n",
       "      <th>OWNHOME</th>\n",
       "      <th>PCTMARR</th>\n",
       "      <th>SPORT</th>\n",
       "      <th>Y1price</th>\n",
       "      <th>YEARS</th>\n",
       "    </tr>\n",
       "    <tr>\n",
       "      <th>Y2defect</th>\n",
       "      <th></th>\n",
       "      <th></th>\n",
       "      <th></th>\n",
       "      <th></th>\n",
       "      <th></th>\n",
       "      <th></th>\n",
       "      <th></th>\n",
       "      <th></th>\n",
       "      <th></th>\n",
       "      <th></th>\n",
       "      <th></th>\n",
       "    </tr>\n",
       "  </thead>\n",
       "  <tbody>\n",
       "    <tr>\n",
       "      <th>0</th>\n",
       "      <td>61.831873</td>\n",
       "      <td>0.584418</td>\n",
       "      <td>2.429253</td>\n",
       "      <td>0.443044</td>\n",
       "      <td>109.368273</td>\n",
       "      <td>2.861505</td>\n",
       "      <td>0.728631</td>\n",
       "      <td>58.536458</td>\n",
       "      <td>0.051756</td>\n",
       "      <td>20.170356</td>\n",
       "      <td>6.777778</td>\n",
       "    </tr>\n",
       "    <tr>\n",
       "      <th>1</th>\n",
       "      <td>60.943993</td>\n",
       "      <td>0.394531</td>\n",
       "      <td>2.082031</td>\n",
       "      <td>0.451435</td>\n",
       "      <td>114.854167</td>\n",
       "      <td>2.903163</td>\n",
       "      <td>0.708495</td>\n",
       "      <td>57.920573</td>\n",
       "      <td>0.062115</td>\n",
       "      <td>19.755859</td>\n",
       "      <td>5.978299</td>\n",
       "    </tr>\n",
       "  </tbody>\n",
       "</table>\n",
       "</div>"
      ],
      "text/plain": [
       "                AGE    BACKER  GAMES_ATTENDED      GNDR     HOMEVAL    INCOME  \\\n",
       "Y2defect                                                                        \n",
       "0         61.831873  0.584418        2.429253  0.443044  109.368273  2.861505   \n",
       "1         60.943993  0.394531        2.082031  0.451435  114.854167  2.903163   \n",
       "\n",
       "           OWNHOME    PCTMARR     SPORT    Y1price     YEARS  \n",
       "Y2defect                                                      \n",
       "0         0.728631  58.536458  0.051756  20.170356  6.777778  \n",
       "1         0.708495  57.920573  0.062115  19.755859  5.978299  "
      ]
     },
     "execution_count": 133,
     "metadata": {},
     "output_type": "execute_result"
    }
   ],
   "source": [
    "#Displaying average values for each column for the two possible outcomes of this project.\n",
    "\n",
    "pd.pivot_table(df,index=[\"Y2defect\"])"
   ]
  },
  {
   "cell_type": "code",
   "execution_count": 134,
   "metadata": {},
   "outputs": [
    {
     "data": {
      "text/plain": [
       "array([[<matplotlib.axes._subplots.AxesSubplot object at 0x00000000197F25F8>,\n",
       "        <matplotlib.axes._subplots.AxesSubplot object at 0x00000000198F1AC8>,\n",
       "        <matplotlib.axes._subplots.AxesSubplot object at 0x0000000019904550>],\n",
       "       [<matplotlib.axes._subplots.AxesSubplot object at 0x0000000019ABDE10>,\n",
       "        <matplotlib.axes._subplots.AxesSubplot object at 0x0000000019E32898>,\n",
       "        <matplotlib.axes._subplots.AxesSubplot object at 0x0000000019A290B8>],\n",
       "       [<matplotlib.axes._subplots.AxesSubplot object at 0x000000001A1F09B0>,\n",
       "        <matplotlib.axes._subplots.AxesSubplot object at 0x000000001A2C3710>,\n",
       "        <matplotlib.axes._subplots.AxesSubplot object at 0x0000000019A29AC8>],\n",
       "       [<matplotlib.axes._subplots.AxesSubplot object at 0x0000000019395400>,\n",
       "        <matplotlib.axes._subplots.AxesSubplot object at 0x0000000019707438>,\n",
       "        <matplotlib.axes._subplots.AxesSubplot object at 0x00000000193AF240>]], dtype=object)"
      ]
     },
     "execution_count": 134,
     "metadata": {},
     "output_type": "execute_result"
    },
    {
     "data": {
      "image/png": "[encoded data removed]",
      "text/plain": [
       "<matplotlib.figure.Figure at 0x196fe128>"
      ]
     },
     "metadata": {},
     "output_type": "display_data"
    }
   ],
   "source": [
    "#Displaying value distribution for each factor.\n",
    "\n",
    "df.hist(figsize=(16,16))"
   ]
  },
  {
   "cell_type": "code",
   "execution_count": 135,
   "metadata": {},
   "outputs": [
    {
     "data": {
      "text/plain": [
       "<seaborn.axisgrid.FacetGrid at 0x19805a90>"
      ]
     },
     "execution_count": 135,
     "metadata": {},
     "output_type": "execute_result"
    },
    {
     "data": {
      "image/png": "[encoded data removed]",
      "text/plain": [
       "<matplotlib.figure.Figure at 0x1807bbe0>"
      ]
     },
     "metadata": {},
     "output_type": "display_data"
    }
   ],
   "source": [
    "#Examining the relationship between Y2defect and several promising factors.\n",
    "\n",
    "sns.factorplot(\"Y2defect\", \"BACKER\", data=df)"
   ]
  },
  {
   "cell_type": "markdown",
   "metadata": {},
   "source": [
    "##### Backers are far more likely to renew their season tickets than non-backers."
   ]
  },
  {
   "cell_type": "code",
   "execution_count": 136,
   "metadata": {},
   "outputs": [
    {
     "data": {
      "text/plain": [
       "<seaborn.axisgrid.FacetGrid at 0x17363c18>"
      ]
     },
     "execution_count": 136,
     "metadata": {},
     "output_type": "execute_result"
    },
    {
     "data": {
      "image/png": "[encoded data removed]",
      "text/plain": [
       "<matplotlib.figure.Figure at 0x1878ed68>"
      ]
     },
     "metadata": {},
     "output_type": "display_data"
    }
   ],
   "source": [
    "sns.factorplot(\"Y2defect\", \"GAMES_ATTENDED\", data=df)"
   ]
  },
  {
   "cell_type": "markdown",
   "metadata": {},
   "source": [
    "##### Those attending more games are far more likely to renew their season tickets."
   ]
  },
  {
   "cell_type": "code",
   "execution_count": 137,
   "metadata": {},
   "outputs": [
    {
     "data": {
      "text/plain": [
       "<seaborn.axisgrid.FacetGrid at 0x1910ada0>"
      ]
     },
     "execution_count": 137,
     "metadata": {},
     "output_type": "execute_result"
    },
    {
     "data": {
      "image/png": "[encoded data removed]",
      "text/plain": [
       "<matplotlib.figure.Figure at 0x16fbadd8>"
      ]
     },
     "metadata": {},
     "output_type": "display_data"
    }
   ],
   "source": [
    "sns.factorplot(\"Y2defect\", \"AGE\", data=df)"
   ]
  },
  {
   "cell_type": "markdown",
   "metadata": {},
   "source": [
    "##### Older people are more likely to renew their season tickets."
   ]
  },
  {
   "cell_type": "code",
   "execution_count": 138,
   "metadata": {},
   "outputs": [
    {
     "data": {
      "text/plain": [
       "<seaborn.axisgrid.FacetGrid at 0x197ac390>"
      ]
     },
     "execution_count": 138,
     "metadata": {},
     "output_type": "execute_result"
    },
    {
     "data": {
      "image/png": "[encoded data removed]",
      "text/plain": [
       "<matplotlib.figure.Figure at 0x1910a198>"
      ]
     },
     "metadata": {},
     "output_type": "display_data"
    }
   ],
   "source": [
    "sns.factorplot(\"Y2defect\", \"SPORT\", data=df)"
   ]
  },
  {
   "cell_type": "markdown",
   "metadata": {},
   "source": [
    "##### Interestingly, it appears that individuals who subscribe to a sports magazine are less likely to renew their season pass."
   ]
  },
  {
   "cell_type": "code",
   "execution_count": 139,
   "metadata": {},
   "outputs": [
    {
     "data": {
      "text/plain": [
       "<seaborn.axisgrid.FacetGrid at 0x18e51c50>"
      ]
     },
     "execution_count": 139,
     "metadata": {},
     "output_type": "execute_result"
    },
    {
     "data": {
      "image/png": "[encoded data removed]",
      "text/plain": [
       "<matplotlib.figure.Figure at 0x18e512b0>"
      ]
     },
     "metadata": {},
     "output_type": "display_data"
    }
   ],
   "source": [
    "#Checking the relationship between number of games attended and number of years as a season ticket holder\n",
    "\n",
    "sns.lmplot(\"GAMES_ATTENDED\", \"YEARS\", df, x_jitter=.15)"
   ]
  },
  {
   "cell_type": "markdown",
   "metadata": {},
   "source": [
    "##### Those that have been season ticket holders for longer attend slightly more games on average."
   ]
  },
  {
   "cell_type": "markdown",
   "metadata": {},
   "source": [
    "# Exploratory Data Analysis"
   ]
  },
  {
   "cell_type": "code",
   "execution_count": 140,
   "metadata": {},
   "outputs": [
    {
     "data": {
      "text/html": [
       "<div>\n",
       "<style>\n",
       "    .dataframe thead tr:only-child th {\n",
       "        text-align: right;\n",
       "    }\n",
       "\n",
       "    .dataframe thead th {\n",
       "        text-align: left;\n",
       "    }\n",
       "\n",
       "    .dataframe tbody tr th {\n",
       "        vertical-align: top;\n",
       "    }\n",
       "</style>\n",
       "<table border=\"1\" class=\"dataframe\">\n",
       "  <thead>\n",
       "    <tr style=\"text-align: right;\">\n",
       "      <th></th>\n",
       "      <th>Y2defect</th>\n",
       "      <th>Y1price</th>\n",
       "      <th>YEARS</th>\n",
       "      <th>BACKER</th>\n",
       "      <th>AGE</th>\n",
       "      <th>INCOME</th>\n",
       "      <th>GNDR</th>\n",
       "      <th>OWNHOME</th>\n",
       "      <th>SPORT</th>\n",
       "      <th>PCTMARR</th>\n",
       "      <th>HOMEVAL</th>\n",
       "      <th>GAMES_ATTENDED</th>\n",
       "    </tr>\n",
       "  </thead>\n",
       "  <tbody>\n",
       "    <tr>\n",
       "      <th>Y2defect</th>\n",
       "      <td>1.000000</td>\n",
       "      <td>-0.023498</td>\n",
       "      <td>-0.139099</td>\n",
       "      <td>-0.189929</td>\n",
       "      <td>-0.026752</td>\n",
       "      <td>0.011297</td>\n",
       "      <td>0.008438</td>\n",
       "      <td>-0.022388</td>\n",
       "      <td>0.020711</td>\n",
       "      <td>-0.023869</td>\n",
       "      <td>0.029722</td>\n",
       "      <td>-0.164720</td>\n",
       "    </tr>\n",
       "    <tr>\n",
       "      <th>Y1price</th>\n",
       "      <td>-0.023498</td>\n",
       "      <td>1.000000</td>\n",
       "      <td>0.043768</td>\n",
       "      <td>-0.090287</td>\n",
       "      <td>-0.032464</td>\n",
       "      <td>0.080680</td>\n",
       "      <td>0.045249</td>\n",
       "      <td>-0.018029</td>\n",
       "      <td>0.018550</td>\n",
       "      <td>0.008032</td>\n",
       "      <td>0.095580</td>\n",
       "      <td>0.022259</td>\n",
       "    </tr>\n",
       "    <tr>\n",
       "      <th>YEARS</th>\n",
       "      <td>-0.139099</td>\n",
       "      <td>0.043768</td>\n",
       "      <td>1.000000</td>\n",
       "      <td>0.533836</td>\n",
       "      <td>0.323799</td>\n",
       "      <td>-0.100790</td>\n",
       "      <td>-0.013408</td>\n",
       "      <td>-0.011307</td>\n",
       "      <td>-0.049982</td>\n",
       "      <td>0.023691</td>\n",
       "      <td>-0.049689</td>\n",
       "      <td>0.217106</td>\n",
       "    </tr>\n",
       "    <tr>\n",
       "      <th>BACKER</th>\n",
       "      <td>-0.189929</td>\n",
       "      <td>-0.090287</td>\n",
       "      <td>0.533836</td>\n",
       "      <td>1.000000</td>\n",
       "      <td>0.207643</td>\n",
       "      <td>-0.095961</td>\n",
       "      <td>-0.024022</td>\n",
       "      <td>-0.018135</td>\n",
       "      <td>-0.037559</td>\n",
       "      <td>0.032558</td>\n",
       "      <td>-0.064727</td>\n",
       "      <td>0.220321</td>\n",
       "    </tr>\n",
       "    <tr>\n",
       "      <th>AGE</th>\n",
       "      <td>-0.026752</td>\n",
       "      <td>-0.032464</td>\n",
       "      <td>0.323799</td>\n",
       "      <td>0.207643</td>\n",
       "      <td>1.000000</td>\n",
       "      <td>-0.248853</td>\n",
       "      <td>0.021664</td>\n",
       "      <td>-0.085298</td>\n",
       "      <td>-0.048280</td>\n",
       "      <td>-0.060747</td>\n",
       "      <td>-0.016393</td>\n",
       "      <td>0.062522</td>\n",
       "    </tr>\n",
       "    <tr>\n",
       "      <th>INCOME</th>\n",
       "      <td>0.011297</td>\n",
       "      <td>0.080680</td>\n",
       "      <td>-0.100790</td>\n",
       "      <td>-0.095961</td>\n",
       "      <td>-0.248853</td>\n",
       "      <td>1.000000</td>\n",
       "      <td>0.073726</td>\n",
       "      <td>0.039431</td>\n",
       "      <td>0.085243</td>\n",
       "      <td>0.160300</td>\n",
       "      <td>0.318180</td>\n",
       "      <td>-0.007348</td>\n",
       "    </tr>\n",
       "    <tr>\n",
       "      <th>GNDR</th>\n",
       "      <td>0.008438</td>\n",
       "      <td>0.045249</td>\n",
       "      <td>-0.013408</td>\n",
       "      <td>-0.024022</td>\n",
       "      <td>0.021664</td>\n",
       "      <td>0.073726</td>\n",
       "      <td>1.000000</td>\n",
       "      <td>0.075907</td>\n",
       "      <td>0.054709</td>\n",
       "      <td>0.053926</td>\n",
       "      <td>0.022454</td>\n",
       "      <td>-0.020839</td>\n",
       "    </tr>\n",
       "    <tr>\n",
       "      <th>OWNHOME</th>\n",
       "      <td>-0.022388</td>\n",
       "      <td>-0.018029</td>\n",
       "      <td>-0.011307</td>\n",
       "      <td>-0.018135</td>\n",
       "      <td>-0.085298</td>\n",
       "      <td>0.039431</td>\n",
       "      <td>0.075907</td>\n",
       "      <td>1.000000</td>\n",
       "      <td>0.011732</td>\n",
       "      <td>0.100576</td>\n",
       "      <td>-0.029668</td>\n",
       "      <td>0.013050</td>\n",
       "    </tr>\n",
       "    <tr>\n",
       "      <th>SPORT</th>\n",
       "      <td>0.020711</td>\n",
       "      <td>0.018550</td>\n",
       "      <td>-0.049982</td>\n",
       "      <td>-0.037559</td>\n",
       "      <td>-0.048280</td>\n",
       "      <td>0.085243</td>\n",
       "      <td>0.054709</td>\n",
       "      <td>0.011732</td>\n",
       "      <td>1.000000</td>\n",
       "      <td>0.029772</td>\n",
       "      <td>0.036767</td>\n",
       "      <td>0.013453</td>\n",
       "    </tr>\n",
       "    <tr>\n",
       "      <th>PCTMARR</th>\n",
       "      <td>-0.023869</td>\n",
       "      <td>0.008032</td>\n",
       "      <td>0.023691</td>\n",
       "      <td>0.032558</td>\n",
       "      <td>-0.060747</td>\n",
       "      <td>0.160300</td>\n",
       "      <td>0.053926</td>\n",
       "      <td>0.100576</td>\n",
       "      <td>0.029772</td>\n",
       "      <td>1.000000</td>\n",
       "      <td>0.046570</td>\n",
       "      <td>0.021239</td>\n",
       "    </tr>\n",
       "    <tr>\n",
       "      <th>HOMEVAL</th>\n",
       "      <td>0.029722</td>\n",
       "      <td>0.095580</td>\n",
       "      <td>-0.049689</td>\n",
       "      <td>-0.064727</td>\n",
       "      <td>-0.016393</td>\n",
       "      <td>0.318180</td>\n",
       "      <td>0.022454</td>\n",
       "      <td>-0.029668</td>\n",
       "      <td>0.036767</td>\n",
       "      <td>0.046570</td>\n",
       "      <td>1.000000</td>\n",
       "      <td>-0.011751</td>\n",
       "    </tr>\n",
       "    <tr>\n",
       "      <th>GAMES_ATTENDED</th>\n",
       "      <td>-0.164720</td>\n",
       "      <td>0.022259</td>\n",
       "      <td>0.217106</td>\n",
       "      <td>0.220321</td>\n",
       "      <td>0.062522</td>\n",
       "      <td>-0.007348</td>\n",
       "      <td>-0.020839</td>\n",
       "      <td>0.013050</td>\n",
       "      <td>0.013453</td>\n",
       "      <td>0.021239</td>\n",
       "      <td>-0.011751</td>\n",
       "      <td>1.000000</td>\n",
       "    </tr>\n",
       "  </tbody>\n",
       "</table>\n",
       "</div>"
      ],
      "text/plain": [
       "                Y2defect   Y1price     YEARS    BACKER       AGE    INCOME  \\\n",
       "Y2defect        1.000000 -0.023498 -0.139099 -0.189929 -0.026752  0.011297   \n",
       "Y1price        -0.023498  1.000000  0.043768 -0.090287 -0.032464  0.080680   \n",
       "YEARS          -0.139099  0.043768  1.000000  0.533836  0.323799 -0.100790   \n",
       "BACKER         -0.189929 -0.090287  0.533836  1.000000  0.207643 -0.095961   \n",
       "AGE            -0.026752 -0.032464  0.323799  0.207643  1.000000 -0.248853   \n",
       "INCOME          0.011297  0.080680 -0.100790 -0.095961 -0.248853  1.000000   \n",
       "GNDR            0.008438  0.045249 -0.013408 -0.024022  0.021664  0.073726   \n",
       "OWNHOME        -0.022388 -0.018029 -0.011307 -0.018135 -0.085298  0.039431   \n",
       "SPORT           0.020711  0.018550 -0.049982 -0.037559 -0.048280  0.085243   \n",
       "PCTMARR        -0.023869  0.008032  0.023691  0.032558 -0.060747  0.160300   \n",
       "HOMEVAL         0.029722  0.095580 -0.049689 -0.064727 -0.016393  0.318180   \n",
       "GAMES_ATTENDED -0.164720  0.022259  0.217106  0.220321  0.062522 -0.007348   \n",
       "\n",
       "                    GNDR   OWNHOME     SPORT   PCTMARR   HOMEVAL  \\\n",
       "Y2defect        0.008438 -0.022388  0.020711 -0.023869  0.029722   \n",
       "Y1price         0.045249 -0.018029  0.018550  0.008032  0.095580   \n",
       "YEARS          -0.013408 -0.011307 -0.049982  0.023691 -0.049689   \n",
       "BACKER         -0.024022 -0.018135 -0.037559  0.032558 -0.064727   \n",
       "AGE             0.021664 -0.085298 -0.048280 -0.060747 -0.016393   \n",
       "INCOME          0.073726  0.039431  0.085243  0.160300  0.318180   \n",
       "GNDR            1.000000  0.075907  0.054709  0.053926  0.022454   \n",
       "OWNHOME         0.075907  1.000000  0.011732  0.100576 -0.029668   \n",
       "SPORT           0.054709  0.011732  1.000000  0.029772  0.036767   \n",
       "PCTMARR         0.053926  0.100576  0.029772  1.000000  0.046570   \n",
       "HOMEVAL         0.022454 -0.029668  0.036767  0.046570  1.000000   \n",
       "GAMES_ATTENDED -0.020839  0.013050  0.013453  0.021239 -0.011751   \n",
       "\n",
       "                GAMES_ATTENDED  \n",
       "Y2defect             -0.164720  \n",
       "Y1price               0.022259  \n",
       "YEARS                 0.217106  \n",
       "BACKER                0.220321  \n",
       "AGE                   0.062522  \n",
       "INCOME               -0.007348  \n",
       "GNDR                 -0.020839  \n",
       "OWNHOME               0.013050  \n",
       "SPORT                 0.013453  \n",
       "PCTMARR               0.021239  \n",
       "HOMEVAL              -0.011751  \n",
       "GAMES_ATTENDED        1.000000  "
      ]
     },
     "execution_count": 140,
     "metadata": {},
     "output_type": "execute_result"
    }
   ],
   "source": [
    "#Looking for trends in correlation\n",
    "\n",
    "df.corr()"
   ]
  },
  {
   "cell_type": "code",
   "execution_count": 141,
   "metadata": {},
   "outputs": [
    {
     "data": {
      "text/plain": [
       "<matplotlib.axes._subplots.AxesSubplot at 0x1a50b7f0>"
      ]
     },
     "execution_count": 141,
     "metadata": {},
     "output_type": "execute_result"
    },
    {
     "data": {
      "image/png": "[encoded data removed]",
      "text/plain": [
       "<matplotlib.figure.Figure at 0x198a4748>"
      ]
     },
     "metadata": {},
     "output_type": "display_data"
    }
   ],
   "source": [
    "#Heatmap to show correlations\n",
    "\n",
    "sns.heatmap(df.corr(), vmax=.8, annot=True, fmt=\".1f\")"
   ]
  },
  {
   "cell_type": "markdown",
   "metadata": {
    "collapsed": true
   },
   "source": [
    "### Hypothesis Testing"
   ]
  },
  {
   "cell_type": "markdown",
   "metadata": {
    "collapsed": true
   },
   "source": [
    "Hypothesis 1 - I predict that being a backer has a significant impact on whether or not a season ticket holder renews their season pass because if somebody is willing to donate money to KSU they are likely dedicated fans and also have the financial means to renew their pass.  \n",
    "  \n",
    "Hypothesis 2 - I predict that the number of years has a significant impact on whether or not a season ticket holder renews their season pass because if they have had a season pass for several years, they might be more likely to continue holding one, as opposed to somebody that's only had a season pass for one year and might not know if it's really worth it to them yet.\n",
    "  \n",
    "Hypothesis 3 - I predict that the income level of an individual has a significant impact on whether or not a season ticket holder renews their season pass because somebody with a higher level of income has greater means to renew their season pass."
   ]
  },
  {
   "cell_type": "code",
   "execution_count": 142,
   "metadata": {},
   "outputs": [
    {
     "name": "stdout",
     "output_type": "stream",
     "text": [
      "Ttest_indResult(statistic=18.569229464586954, pvalue=1.3520712382655212e-75)\n"
     ]
    }
   ],
   "source": [
    "#Hypothesis 1 test\n",
    "\n",
    "backer = df[df['BACKER'] == 0]['Y2defect']\n",
    "not_backer = df[df['BACKER'] == 1]['Y2defect']\n",
    "result = stats.ttest_ind(backer,not_backer)\n",
    "print result"
   ]
  },
  {
   "cell_type": "markdown",
   "metadata": {
    "collapsed": true
   },
   "source": [
    "##### This t-test indicates that being a backer IS a statistically significant factor in determining whether a season ticket holder will renew their season pass, as the p-value of this test is far below .05.  My hypothesis was correct."
   ]
  },
  {
   "cell_type": "code",
   "execution_count": 143,
   "metadata": {},
   "outputs": [
    {
     "name": "stdout",
     "output_type": "stream",
     "text": [
      "Ttest_indResult(statistic=18.569229464586954, pvalue=1.3520712382655212e-75)\n"
     ]
    }
   ],
   "source": [
    "#Hypothesis 2 test\n",
    "\n",
    "renewed = df[df['Y2defect'] == 0]['YEARS']\n",
    "not_renewed = df[df['Y2defect'] == 1]['YEARS']\n",
    "result = stats.ttest_ind(backer,not_backer)\n",
    "print result"
   ]
  },
  {
   "cell_type": "markdown",
   "metadata": {},
   "source": [
    "##### This t-test indicates that the number of years IS a statistically significant factor in determining whether a season ticket holder will renew their season pass, as the p-value of this test is far below .05.  My hypothesis was correct."
   ]
  },
  {
   "cell_type": "code",
   "execution_count": 144,
   "metadata": {},
   "outputs": [
    {
     "name": "stdout",
     "output_type": "stream",
     "text": [
      "0.767006588281\n"
     ]
    }
   ],
   "source": [
    "#Hypothesis 3 test\n",
    "\n",
    "income_0 = df[df['INCOME'] == 0]['Y2defect']\n",
    "income_1 = df[df['INCOME'] == 1]['Y2defect']\n",
    "income_2 = df[df['INCOME'] == 2]['Y2defect']\n",
    "income_3 = df[df['INCOME'] == 3]['Y2defect']\n",
    "income_4 = df[df['INCOME'] == 4]['Y2defect']\n",
    "income_5 = df[df['INCOME'] == 5]['Y2defect']\n",
    "income_6 = df[df['INCOME'] == 6]['Y2defect']\n",
    "\n",
    "f_val, p_val = stats.f_oneway(income_0,income_1,income_2,income_3,income_4,income_5,income_6)\n",
    "print p_val"
   ]
  },
  {
   "cell_type": "markdown",
   "metadata": {},
   "source": [
    "##### This ANOVA test indicates that the income of an individual IS NOT a statistically significant factor in determining whether or not a season ticket holder will renew their season pass, as the p-value is greater than .05.  My hypothesis was incorrect."
   ]
  },
  {
   "cell_type": "markdown",
   "metadata": {},
   "source": [
    "# Model Building"
   ]
  },
  {
   "cell_type": "markdown",
   "metadata": {},
   "source": [
    "Classification models will not function with features that contain any missing values (NaN), so I am replacing the NaN's from each column with the average value for that column.  This way the data is not skewed by setting them all equal to 0 or another arbitrary number."
   ]
  },
  {
   "cell_type": "code",
   "execution_count": 145,
   "metadata": {},
   "outputs": [
    {
     "data": {
      "text/html": [
       "<div>\n",
       "<style>\n",
       "    .dataframe thead tr:only-child th {\n",
       "        text-align: right;\n",
       "    }\n",
       "\n",
       "    .dataframe thead th {\n",
       "        text-align: left;\n",
       "    }\n",
       "\n",
       "    .dataframe tbody tr th {\n",
       "        vertical-align: top;\n",
       "    }\n",
       "</style>\n",
       "<table border=\"1\" class=\"dataframe\">\n",
       "  <thead>\n",
       "    <tr style=\"text-align: right;\">\n",
       "      <th></th>\n",
       "      <th>FAKEID</th>\n",
       "      <th>Y2defect</th>\n",
       "      <th>Y1price</th>\n",
       "      <th>YEARS</th>\n",
       "      <th>BACKER</th>\n",
       "      <th>AGE</th>\n",
       "      <th>INCOME</th>\n",
       "      <th>GNDR</th>\n",
       "      <th>OWNHOME</th>\n",
       "      <th>SPORT</th>\n",
       "      <th>PCTMARR</th>\n",
       "      <th>HOMEVAL</th>\n",
       "      <th>GAMES_ATTENDED</th>\n",
       "    </tr>\n",
       "  </thead>\n",
       "  <tbody>\n",
       "    <tr>\n",
       "      <th>0</th>\n",
       "      <td>580V74KT</td>\n",
       "      <td>0</td>\n",
       "      <td>15</td>\n",
       "      <td>8</td>\n",
       "      <td>1</td>\n",
       "      <td>94.000000</td>\n",
       "      <td>4.000000</td>\n",
       "      <td>0.0</td>\n",
       "      <td>1.0</td>\n",
       "      <td>0.056869</td>\n",
       "      <td>77</td>\n",
       "      <td>203</td>\n",
       "      <td>3</td>\n",
       "    </tr>\n",
       "    <tr>\n",
       "      <th>1</th>\n",
       "      <td>298S54OK</td>\n",
       "      <td>1</td>\n",
       "      <td>15</td>\n",
       "      <td>3</td>\n",
       "      <td>1</td>\n",
       "      <td>61.392912</td>\n",
       "      <td>2.882151</td>\n",
       "      <td>0.0</td>\n",
       "      <td>0.0</td>\n",
       "      <td>0.056869</td>\n",
       "      <td>53</td>\n",
       "      <td>68</td>\n",
       "      <td>2</td>\n",
       "    </tr>\n",
       "    <tr>\n",
       "      <th>2</th>\n",
       "      <td>268D25AO</td>\n",
       "      <td>1</td>\n",
       "      <td>15</td>\n",
       "      <td>11</td>\n",
       "      <td>1</td>\n",
       "      <td>67.000000</td>\n",
       "      <td>2.000000</td>\n",
       "      <td>0.0</td>\n",
       "      <td>1.0</td>\n",
       "      <td>0.000000</td>\n",
       "      <td>50</td>\n",
       "      <td>38</td>\n",
       "      <td>2</td>\n",
       "    </tr>\n",
       "    <tr>\n",
       "      <th>3</th>\n",
       "      <td>312Q12WV</td>\n",
       "      <td>1</td>\n",
       "      <td>15</td>\n",
       "      <td>4</td>\n",
       "      <td>0</td>\n",
       "      <td>62.000000</td>\n",
       "      <td>4.000000</td>\n",
       "      <td>1.0</td>\n",
       "      <td>1.0</td>\n",
       "      <td>0.000000</td>\n",
       "      <td>60</td>\n",
       "      <td>68</td>\n",
       "      <td>3</td>\n",
       "    </tr>\n",
       "    <tr>\n",
       "      <th>4</th>\n",
       "      <td>420R23VB</td>\n",
       "      <td>0</td>\n",
       "      <td>15</td>\n",
       "      <td>5</td>\n",
       "      <td>0</td>\n",
       "      <td>89.000000</td>\n",
       "      <td>4.000000</td>\n",
       "      <td>1.0</td>\n",
       "      <td>1.0</td>\n",
       "      <td>0.000000</td>\n",
       "      <td>65</td>\n",
       "      <td>194</td>\n",
       "      <td>1</td>\n",
       "    </tr>\n",
       "  </tbody>\n",
       "</table>\n",
       "</div>"
      ],
      "text/plain": [
       "     FAKEID  Y2defect  Y1price  YEARS  BACKER        AGE    INCOME  GNDR  \\\n",
       "0  580V74KT         0       15      8       1  94.000000  4.000000   0.0   \n",
       "1  298S54OK         1       15      3       1  61.392912  2.882151   0.0   \n",
       "2  268D25AO         1       15     11       1  67.000000  2.000000   0.0   \n",
       "3  312Q12WV         1       15      4       0  62.000000  4.000000   1.0   \n",
       "4  420R23VB         0       15      5       0  89.000000  4.000000   1.0   \n",
       "\n",
       "   OWNHOME     SPORT  PCTMARR  HOMEVAL  GAMES_ATTENDED  \n",
       "0      1.0  0.056869       77      203               3  \n",
       "1      0.0  0.056869       53       68               2  \n",
       "2      1.0  0.000000       50       38               2  \n",
       "3      1.0  0.000000       60       68               3  \n",
       "4      1.0  0.000000       65      194               1  "
      ]
     },
     "execution_count": 145,
     "metadata": {},
     "output_type": "execute_result"
    }
   ],
   "source": [
    "#Calculating mean values\n",
    "\n",
    "AGE_Mean = df['AGE'].mean()\n",
    "INCOME_Mean = df['INCOME'].mean()\n",
    "GNDR_Mean = df['GNDR'].mean()\n",
    "OWNHOME_Mean = df['OWNHOME'].mean()\n",
    "SPORT_Mean = df['SPORT'].mean()\n",
    "\n",
    "#Filling values\n",
    "\n",
    "values = {'AGE': AGE_Mean, 'INCOME': INCOME_Mean, 'GNDR': GNDR_Mean, 'OWNHOME': OWNHOME_Mean, 'SPORT': SPORT_Mean}\n",
    "df = df.fillna(value=values)\n",
    "df.head()"
   ]
  },
  {
   "cell_type": "markdown",
   "metadata": {},
   "source": [
    "### Decision Tree"
   ]
  },
  {
   "cell_type": "code",
   "execution_count": 146,
   "metadata": {
    "collapsed": true
   },
   "outputs": [],
   "source": [
    "y = df['Y2defect']\n",
    "X = df.drop(['Y2defect', 'FAKEID'], axis=1)"
   ]
  },
  {
   "cell_type": "code",
   "execution_count": 147,
   "metadata": {
    "collapsed": true
   },
   "outputs": [],
   "source": [
    "X_train, X_test, y_train, y_test = train_test_split(X, y, test_size=0.3, random_state=0)"
   ]
  },
  {
   "cell_type": "code",
   "execution_count": 148,
   "metadata": {},
   "outputs": [
    {
     "data": {
      "text/plain": [
       "DecisionTreeClassifier(class_weight=None, criterion='gini', max_depth=None,\n",
       "            max_features=None, max_leaf_nodes=None,\n",
       "            min_impurity_decrease=0.0, min_impurity_split=None,\n",
       "            min_samples_leaf=1, min_samples_split=2,\n",
       "            min_weight_fraction_leaf=0.0, presort=False, random_state=None,\n",
       "            splitter='best')"
      ]
     },
     "execution_count": 148,
     "metadata": {},
     "output_type": "execute_result"
    }
   ],
   "source": [
    "dt = DecisionTreeClassifier()\n",
    "dt.fit(X_train, y_train)"
   ]
  },
  {
   "cell_type": "code",
   "execution_count": 149,
   "metadata": {},
   "outputs": [
    {
     "name": "stdout",
     "output_type": "stream",
     "text": [
      "0.553345388788\n",
      "--------------------------------------------------------\n",
      "[[743 620]\n",
      " [615 787]]\n",
      "--------------------------------------------------------\n",
      "             precision    recall  f1-score   support\n",
      "\n",
      "          0       0.55      0.55      0.55      1363\n",
      "          1       0.56      0.56      0.56      1402\n",
      "\n",
      "avg / total       0.55      0.55      0.55      2765\n",
      "\n",
      "--------------------------------------------------------\n",
      "0.553230999003\n"
     ]
    }
   ],
   "source": [
    "#Model evaluation & validation\n",
    "\n",
    "print metrics.accuracy_score(y_test, dt.predict(X_test))\n",
    "print \"--------------------------------------------------------\"\n",
    "print metrics.confusion_matrix(y_test, dt.predict(X_test)) \n",
    "print \"--------------------------------------------------------\"\n",
    "print metrics.classification_report(y_test, dt.predict(X_test))\n",
    "print \"--------------------------------------------------------\"\n",
    "print metrics.roc_auc_score(y_test, dt.predict(X_test))"
   ]
  },
  {
   "cell_type": "markdown",
   "metadata": {},
   "source": [
    "##### This model is not very accurate with an AUC score of ~ 54.6%."
   ]
  },
  {
   "cell_type": "markdown",
   "metadata": {},
   "source": [
    "### Knn"
   ]
  },
  {
   "cell_type": "code",
   "execution_count": 150,
   "metadata": {
    "collapsed": true
   },
   "outputs": [],
   "source": [
    "y = df['Y2defect']\n",
    "X = df.drop(['Y2defect', 'FAKEID'], axis=1)"
   ]
  },
  {
   "cell_type": "code",
   "execution_count": 151,
   "metadata": {},
   "outputs": [
    {
     "data": {
      "text/plain": [
       "KNeighborsClassifier(algorithm='auto', leaf_size=30, metric='minkowski',\n",
       "           metric_params=None, n_jobs=1, n_neighbors=5, p=2,\n",
       "           weights='uniform')"
      ]
     },
     "execution_count": 151,
     "metadata": {},
     "output_type": "execute_result"
    }
   ],
   "source": [
    "X_train, X_test, y_train, y_test = train_test_split(X, y, test_size=0.3, random_state=0)\n",
    "knn = KNeighborsClassifier()    #  n_neighbors=5 by default\n",
    "knn.fit(X_train, y_train)"
   ]
  },
  {
   "cell_type": "code",
   "execution_count": 152,
   "metadata": {},
   "outputs": [
    {
     "name": "stdout",
     "output_type": "stream",
     "text": [
      "0.514285714286\n",
      "--------------------------------------------------------\n",
      "[[736 627]\n",
      " [716 686]]\n",
      "--------------------------------------------------------\n",
      "             precision    recall  f1-score   support\n",
      "\n",
      "          0       0.51      0.54      0.52      1363\n",
      "          1       0.52      0.49      0.51      1402\n",
      "\n",
      "avg / total       0.51      0.51      0.51      2765\n",
      "\n",
      "--------------------------------------------------------\n",
      "0.51464316253\n"
     ]
    }
   ],
   "source": [
    "#Model evaluation & validation\n",
    "\n",
    "print metrics.accuracy_score(y_test, knn.predict(X_test))\n",
    "print \"--------------------------------------------------------\"\n",
    "print metrics.confusion_matrix(y_test, knn.predict(X_test))\n",
    "print \"--------------------------------------------------------\"\n",
    "print metrics.classification_report(y_test, knn.predict(X_test))\n",
    "print \"--------------------------------------------------------\"\n",
    "print metrics.roc_auc_score(y_test, knn.predict(X_test))"
   ]
  },
  {
   "cell_type": "markdown",
   "metadata": {},
   "source": [
    "##### This model is even less accurate with an AUC score of ~ 51.4%."
   ]
  },
  {
   "cell_type": "markdown",
   "metadata": {},
   "source": [
    "### Logistic Regression"
   ]
  },
  {
   "cell_type": "code",
   "execution_count": 153,
   "metadata": {
    "collapsed": true
   },
   "outputs": [],
   "source": [
    "y = df['Y2defect']\n",
    "X = df.drop(['Y2defect', 'FAKEID'], axis=1)"
   ]
  },
  {
   "cell_type": "code",
   "execution_count": 154,
   "metadata": {},
   "outputs": [
    {
     "data": {
      "text/plain": [
       "LogisticRegression(C=1.0, class_weight=None, dual=False, fit_intercept=True,\n",
       "          intercept_scaling=1, max_iter=100, multi_class='ovr', n_jobs=1,\n",
       "          penalty='l2', random_state=None, solver='liblinear', tol=0.0001,\n",
       "          verbose=0, warm_start=False)"
      ]
     },
     "execution_count": 154,
     "metadata": {},
     "output_type": "execute_result"
    }
   ],
   "source": [
    "X_train, X_test, y_train, y_test = train_test_split(X, y, test_size=0.3, random_state=0)\n",
    "lr = LogisticRegression()\n",
    "lr.fit(X_train, y_train)"
   ]
  },
  {
   "cell_type": "code",
   "execution_count": 155,
   "metadata": {},
   "outputs": [
    {
     "name": "stdout",
     "output_type": "stream",
     "text": [
      "0.589511754069\n",
      "[[831 532]\n",
      " [603 799]]\n",
      "             precision    recall  f1-score   support\n",
      "\n",
      "          0       0.58      0.61      0.59      1363\n",
      "          1       0.60      0.57      0.58      1402\n",
      "\n",
      "avg / total       0.59      0.59      0.59      2765\n",
      "\n",
      "0.589792331048\n"
     ]
    }
   ],
   "source": [
    "#Model evaluation and validation\n",
    "\n",
    "print metrics.accuracy_score(y_test, lr.predict(X_test))\n",
    "print metrics.confusion_matrix(y_test, lr.predict(X_test))\n",
    "print metrics.classification_report(y_test, lr.predict(X_test))\n",
    "print metrics.roc_auc_score(y_test, lr.predict(X_test))"
   ]
  },
  {
   "cell_type": "markdown",
   "metadata": {},
   "source": [
    "##### This model is more accurate with an AUC score of ~ 59%."
   ]
  },
  {
   "cell_type": "markdown",
   "metadata": {},
   "source": [
    "### Random Forest"
   ]
  },
  {
   "cell_type": "code",
   "execution_count": 156,
   "metadata": {},
   "outputs": [
    {
     "data": {
      "text/plain": [
       "0.99750434027777779"
      ]
     },
     "execution_count": 156,
     "metadata": {},
     "output_type": "execute_result"
    }
   ],
   "source": [
    "from sklearn.ensemble import RandomForestClassifier\n",
    "\n",
    "y = df['Y2defect']\n",
    "X = df.drop(['Y2defect', 'FAKEID'], axis=1)\n",
    "\n",
    "clf = RandomForestClassifier(n_estimators=20)    #building 20 decision trees\n",
    "clf=clf.fit(X, y)\n",
    "clf.score(X,y)"
   ]
  },
  {
   "cell_type": "code",
   "execution_count": 157,
   "metadata": {},
   "outputs": [
    {
     "name": "stdout",
     "output_type": "stream",
     "text": [
      "0.997504340278\n",
      "[[4599    9]\n",
      " [  14 4594]]\n",
      "             precision    recall  f1-score   support\n",
      "\n",
      "          0       1.00      1.00      1.00      4608\n",
      "          1       1.00      1.00      1.00      4608\n",
      "\n",
      "avg / total       1.00      1.00      1.00      9216\n",
      "\n",
      "0.99748315738\n"
     ]
    }
   ],
   "source": [
    "#Model evaluation and validation\n",
    "\n",
    "print metrics.accuracy_score(y, clf.predict(X))\n",
    "print metrics.confusion_matrix(y, clf.predict(X))\n",
    "print metrics.classification_report(y, clf.predict(X))\n",
    "print metrics.roc_auc_score(y_test, clf.predict(X_test))"
   ]
  },
  {
   "cell_type": "markdown",
   "metadata": {},
   "source": [
    "##### This model is extremely accurate with an AUC score of ~ 99.7%."
   ]
  },
  {
   "cell_type": "markdown",
   "metadata": {},
   "source": [
    "## Feature Selection"
   ]
  },
  {
   "cell_type": "markdown",
   "metadata": {},
   "source": [
    "### Extra Tree Classifier"
   ]
  },
  {
   "cell_type": "code",
   "execution_count": 158,
   "metadata": {},
   "outputs": [
    {
     "name": "stdout",
     "output_type": "stream",
     "text": [
      "0.999674479167\n",
      "Features sorted by their rank:\n",
      "[(0.0305, u'Y1price'), (0.0306, u'OWNHOME'), (0.0344, u'GNDR'), (0.0355, u'BACKER'), (0.0424, u'SPORT'), (0.0645, 'GAMES_ATTENDED'), (0.0877, u'INCOME'), (0.1362, u'YEARS'), (0.1651, u'AGE'), (0.1824, u'PCTMARR'), (0.1905, u'HOMEVAL')]\n"
     ]
    }
   ],
   "source": [
    "model_extra = ExtraTreesClassifier()\n",
    "model_extra.fit(X, y)\n",
    "print model_extra.score(X, y)\n",
    "\n",
    "# display the relative importance of each attribute\n",
    "print \"Features sorted by their rank:\"\n",
    "print sorted(zip(map(lambda x: round(x, 4), model_extra.feature_importances_), X.columns))"
   ]
  },
  {
   "cell_type": "markdown",
   "metadata": {},
   "source": [
    "##### According to the Extra Trees Classifier, the features with the greatest significance, in descending order of importance are HOMEVAL, PCTMARR, AGE, YEARS, INCOME, GAMES_ATTENDED, and SPORT.  The features Y1price, OWNHOME, BACKER and GNDR appear slightly less significant and could potentially be excluded."
   ]
  },
  {
   "cell_type": "markdown",
   "metadata": {},
   "source": [
    "### Recursive Feature Selection"
   ]
  },
  {
   "cell_type": "code",
   "execution_count": 159,
   "metadata": {},
   "outputs": [
    {
     "data": {
      "text/html": [
       "<div>\n",
       "<style>\n",
       "    .dataframe thead tr:only-child th {\n",
       "        text-align: right;\n",
       "    }\n",
       "\n",
       "    .dataframe thead th {\n",
       "        text-align: left;\n",
       "    }\n",
       "\n",
       "    .dataframe tbody tr th {\n",
       "        vertical-align: top;\n",
       "    }\n",
       "</style>\n",
       "<table border=\"1\" class=\"dataframe\">\n",
       "  <thead>\n",
       "    <tr style=\"text-align: right;\">\n",
       "      <th></th>\n",
       "      <th>feature</th>\n",
       "      <th>importance</th>\n",
       "    </tr>\n",
       "  </thead>\n",
       "  <tbody>\n",
       "    <tr>\n",
       "      <th>0</th>\n",
       "      <td>Y1price</td>\n",
       "      <td>4</td>\n",
       "    </tr>\n",
       "    <tr>\n",
       "      <th>1</th>\n",
       "      <td>YEARS</td>\n",
       "      <td>2</td>\n",
       "    </tr>\n",
       "    <tr>\n",
       "      <th>2</th>\n",
       "      <td>BACKER</td>\n",
       "      <td>1</td>\n",
       "    </tr>\n",
       "    <tr>\n",
       "      <th>3</th>\n",
       "      <td>AGE</td>\n",
       "      <td>5</td>\n",
       "    </tr>\n",
       "    <tr>\n",
       "      <th>4</th>\n",
       "      <td>INCOME</td>\n",
       "      <td>6</td>\n",
       "    </tr>\n",
       "    <tr>\n",
       "      <th>5</th>\n",
       "      <td>GNDR</td>\n",
       "      <td>3</td>\n",
       "    </tr>\n",
       "    <tr>\n",
       "      <th>6</th>\n",
       "      <td>OWNHOME</td>\n",
       "      <td>1</td>\n",
       "    </tr>\n",
       "    <tr>\n",
       "      <th>7</th>\n",
       "      <td>SPORT</td>\n",
       "      <td>1</td>\n",
       "    </tr>\n",
       "    <tr>\n",
       "      <th>8</th>\n",
       "      <td>PCTMARR</td>\n",
       "      <td>7</td>\n",
       "    </tr>\n",
       "    <tr>\n",
       "      <th>9</th>\n",
       "      <td>HOMEVAL</td>\n",
       "      <td>8</td>\n",
       "    </tr>\n",
       "    <tr>\n",
       "      <th>10</th>\n",
       "      <td>GAMES_ATTENDED</td>\n",
       "      <td>1</td>\n",
       "    </tr>\n",
       "  </tbody>\n",
       "</table>\n",
       "</div>"
      ],
      "text/plain": [
       "           feature  importance\n",
       "0          Y1price           4\n",
       "1            YEARS           2\n",
       "2           BACKER           1\n",
       "3              AGE           5\n",
       "4           INCOME           6\n",
       "5             GNDR           3\n",
       "6          OWNHOME           1\n",
       "7            SPORT           1\n",
       "8          PCTMARR           7\n",
       "9          HOMEVAL           8\n",
       "10  GAMES_ATTENDED           1"
      ]
     },
     "execution_count": 159,
     "metadata": {},
     "output_type": "execute_result"
    }
   ],
   "source": [
    "model = LogisticRegression()\n",
    "rfe = RFE(model, 4)  #asking four best attributes\n",
    "rfe = rfe.fit(X, y)\n",
    "\n",
    "# summarize the selection of the attributes\n",
    "pd.DataFrame({'feature':X.columns, 'importance':rfe.ranking_})"
   ]
  },
  {
   "cell_type": "markdown",
   "metadata": {},
   "source": [
    "##### According to the Recursive Feature Selection, the features with the greatest significance are GAMES_ATTENDED, SPORT, OWNHOME, and BACKER.  The features YEARS and GNDR are just slightly less significant.  The features HOMEVAL, PCTMARR, and INCOME scored the least significant and could potentially be excluded."
   ]
  },
  {
   "cell_type": "markdown",
   "metadata": {},
   "source": [
    "## Improved Model Development"
   ]
  },
  {
   "cell_type": "markdown",
   "metadata": {},
   "source": [
    "Based on the feature selection above, I will develop a model excluding the HOMEVAL, PCTMARR, OWNHOME, GNDR, INCOME, and Y1price features.  Hopefully this will increase the accuracy and simplify the model.  I will use the Logistic Regression model, since it was the most accurate."
   ]
  },
  {
   "cell_type": "code",
   "execution_count": 160,
   "metadata": {
    "collapsed": true
   },
   "outputs": [],
   "source": [
    "y = df['Y2defect']\n",
    "X = df.drop(['Y2defect', 'FAKEID', 'HOMEVAL', 'PCTMARR', 'OWNHOME', 'GNDR', 'INCOME', 'Y1price'], axis=1)"
   ]
  },
  {
   "cell_type": "code",
   "execution_count": 161,
   "metadata": {},
   "outputs": [
    {
     "data": {
      "text/plain": [
       "LogisticRegression(C=1.0, class_weight=None, dual=False, fit_intercept=True,\n",
       "          intercept_scaling=1, max_iter=100, multi_class='ovr', n_jobs=1,\n",
       "          penalty='l2', random_state=None, solver='liblinear', tol=0.0001,\n",
       "          verbose=0, warm_start=False)"
      ]
     },
     "execution_count": 161,
     "metadata": {},
     "output_type": "execute_result"
    }
   ],
   "source": [
    "X_train, X_test, y_train, y_test = train_test_split(X, y, test_size=0.3, random_state=0)\n",
    "lr = LogisticRegression()\n",
    "lr.fit(X_train, y_train)"
   ]
  },
  {
   "cell_type": "code",
   "execution_count": 162,
   "metadata": {},
   "outputs": [
    {
     "name": "stdout",
     "output_type": "stream",
     "text": [
      "0.595660036166\n",
      "[[846 517]\n",
      " [601 801]]\n",
      "             precision    recall  f1-score   support\n",
      "\n",
      "          0       0.58      0.62      0.60      1363\n",
      "          1       0.61      0.57      0.59      1402\n",
      "\n",
      "avg / total       0.60      0.60      0.60      2765\n",
      "\n",
      "0.596008165675\n"
     ]
    }
   ],
   "source": [
    "#Model evaluation and validation\n",
    "\n",
    "print metrics.accuracy_score(y_test, lr.predict(X_test))\n",
    "print metrics.confusion_matrix(y_test, lr.predict(X_test))\n",
    "print metrics.classification_report(y_test, lr.predict(X_test))\n",
    "print metrics.roc_auc_score(y_test, lr.predict(X_test))"
   ]
  },
  {
   "cell_type": "markdown",
   "metadata": {},
   "source": [
    "##### This model is very slightly improved.  Previously it was 59% accurate, and it is now 59.6% accurate.  Clearly this is not a large increase in accuracy - however, we were able to drop 6 columns from the model without sacrificing any accuracy, cutting the number of columns by more than half.  This makes the model far simpler,  which represents a large improvement."
   ]
  },
  {
   "cell_type": "markdown",
   "metadata": {},
   "source": [
    "As an experiment, I will now try a Logistic Regression model with just two features that showed significant promise from my correlation analysis in the Exploratory Data Analysis section of this document."
   ]
  },
  {
   "cell_type": "code",
   "execution_count": 163,
   "metadata": {
    "collapsed": true
   },
   "outputs": [],
   "source": [
    "y = df['Y2defect']\n",
    "X = df[['BACKER', 'GAMES_ATTENDED']]"
   ]
  },
  {
   "cell_type": "code",
   "execution_count": 164,
   "metadata": {},
   "outputs": [
    {
     "data": {
      "text/plain": [
       "LogisticRegression(C=1.0, class_weight=None, dual=False, fit_intercept=True,\n",
       "          intercept_scaling=1, max_iter=100, multi_class='ovr', n_jobs=1,\n",
       "          penalty='l2', random_state=None, solver='liblinear', tol=0.0001,\n",
       "          verbose=0, warm_start=False)"
      ]
     },
     "execution_count": 164,
     "metadata": {},
     "output_type": "execute_result"
    }
   ],
   "source": [
    "X_train, X_test, y_train, y_test = train_test_split(X, y, test_size=0.3, random_state=0)\n",
    "lr2 = LogisticRegression()\n",
    "lr2.fit(X_train, y_train)"
   ]
  },
  {
   "cell_type": "code",
   "execution_count": 165,
   "metadata": {},
   "outputs": [
    {
     "name": "stdout",
     "output_type": "stream",
     "text": [
      "0.59095840868\n",
      "[[866 497]\n",
      " [634 768]]\n",
      "             precision    recall  f1-score   support\n",
      "\n",
      "          0       0.58      0.64      0.60      1363\n",
      "          1       0.61      0.55      0.58      1402\n",
      "\n",
      "avg / total       0.59      0.59      0.59      2765\n",
      "\n",
      "0.591576021259\n"
     ]
    }
   ],
   "source": [
    "#Model evaluation and validation\n",
    "\n",
    "print metrics.accuracy_score(y_test, lr2.predict(X_test))\n",
    "print metrics.confusion_matrix(y_test, lr2.predict(X_test))\n",
    "print metrics.classification_report(y_test, lr2.predict(X_test))\n",
    "print metrics.roc_auc_score(y_test, lr2.predict(X_test))"
   ]
  },
  {
   "cell_type": "markdown",
   "metadata": {},
   "source": [
    "##### This model is very slightly less accurate than the model above with 59.2% accuracy.  However, it has just two factors, so it is an extremely simple model."
   ]
  },
  {
   "cell_type": "markdown",
   "metadata": {
    "collapsed": true
   },
   "source": [
    "# Model Selection"
   ]
  },
  {
   "cell_type": "markdown",
   "metadata": {},
   "source": [
    "##### The most accurate model, by far, was the Random Forest model (clf) with an AUC score of ~ 99.7%.  However, due to the mysterious \"behind the scenes\" nature of Random Forest calculations, I don't totally trust that the model's effectiveness is represented accurately.  It did not place in the marketing contest, which leads me to believe that it is not, in fact, the best model for this dataset.\n",
    "##### The most accurate model was my first improved Logistic Regression model (lr).  It was 59.6% accurate, with only 5 features.  However, my simplest model was my second improved Logistic Regression model (lr2) with a very similar accuracy of 59.2%.  In my opinion, this 0.4% sacrifice in accuracy is worth reducing the number of factors to just two, so I have selected my second improved Logistic Regression model (lr2) for my final submission."
   ]
  },
  {
   "cell_type": "markdown",
   "metadata": {},
   "source": [
    "# Deployment"
   ]
  },
  {
   "cell_type": "code",
   "execution_count": 166,
   "metadata": {},
   "outputs": [
    {
     "data": {
      "text/html": [
       "<div>\n",
       "<style>\n",
       "    .dataframe thead tr:only-child th {\n",
       "        text-align: right;\n",
       "    }\n",
       "\n",
       "    .dataframe thead th {\n",
       "        text-align: left;\n",
       "    }\n",
       "\n",
       "    .dataframe tbody tr th {\n",
       "        vertical-align: top;\n",
       "    }\n",
       "</style>\n",
       "<table border=\"1\" class=\"dataframe\">\n",
       "  <thead>\n",
       "    <tr style=\"text-align: right;\">\n",
       "      <th></th>\n",
       "      <th>FAKEID</th>\n",
       "      <th>Y3defect</th>\n",
       "      <th>Y2G5</th>\n",
       "      <th>Y2G4</th>\n",
       "      <th>Y2G3</th>\n",
       "      <th>Y2G2</th>\n",
       "      <th>Y2G1</th>\n",
       "      <th>Y2price</th>\n",
       "      <th>YEARS</th>\n",
       "      <th>BACKER</th>\n",
       "      <th>AGE</th>\n",
       "      <th>INCOME</th>\n",
       "      <th>CHILD</th>\n",
       "      <th>GNDR</th>\n",
       "      <th>OWNHOME</th>\n",
       "      <th>SPORT</th>\n",
       "      <th>COMP</th>\n",
       "      <th>PCTMARR</th>\n",
       "      <th>HOMEVAL</th>\n",
       "    </tr>\n",
       "  </thead>\n",
       "  <tbody>\n",
       "    <tr>\n",
       "      <th>0</th>\n",
       "      <td>580D24RR</td>\n",
       "      <td>NaN</td>\n",
       "      <td>0</td>\n",
       "      <td>0</td>\n",
       "      <td>1</td>\n",
       "      <td>1</td>\n",
       "      <td>0</td>\n",
       "      <td>15</td>\n",
       "      <td>5</td>\n",
       "      <td>0</td>\n",
       "      <td>49.0</td>\n",
       "      <td>4</td>\n",
       "      <td>NaN</td>\n",
       "      <td>0</td>\n",
       "      <td>1</td>\n",
       "      <td>0.0</td>\n",
       "      <td></td>\n",
       "      <td>66</td>\n",
       "      <td>64</td>\n",
       "    </tr>\n",
       "    <tr>\n",
       "      <th>1</th>\n",
       "      <td>179Q96NO</td>\n",
       "      <td>NaN</td>\n",
       "      <td>1</td>\n",
       "      <td>1</td>\n",
       "      <td>1</td>\n",
       "      <td>1</td>\n",
       "      <td>1</td>\n",
       "      <td>25</td>\n",
       "      <td>9</td>\n",
       "      <td>1</td>\n",
       "      <td>84.0</td>\n",
       "      <td>5</td>\n",
       "      <td></td>\n",
       "      <td>0</td>\n",
       "      <td></td>\n",
       "      <td>0.0</td>\n",
       "      <td></td>\n",
       "      <td>67</td>\n",
       "      <td>128</td>\n",
       "    </tr>\n",
       "    <tr>\n",
       "      <th>2</th>\n",
       "      <td>050Z45TB</td>\n",
       "      <td>NaN</td>\n",
       "      <td>1</td>\n",
       "      <td>0</td>\n",
       "      <td>1</td>\n",
       "      <td>1</td>\n",
       "      <td>0</td>\n",
       "      <td>15</td>\n",
       "      <td>5</td>\n",
       "      <td>1</td>\n",
       "      <td>NaN</td>\n",
       "      <td></td>\n",
       "      <td>NaN</td>\n",
       "      <td>0</td>\n",
       "      <td>0</td>\n",
       "      <td>NaN</td>\n",
       "      <td>1</td>\n",
       "      <td>52</td>\n",
       "      <td>113</td>\n",
       "    </tr>\n",
       "    <tr>\n",
       "      <th>3</th>\n",
       "      <td>399V18KY</td>\n",
       "      <td>NaN</td>\n",
       "      <td>0</td>\n",
       "      <td>0</td>\n",
       "      <td>1</td>\n",
       "      <td>1</td>\n",
       "      <td>0</td>\n",
       "      <td>15</td>\n",
       "      <td>1</td>\n",
       "      <td>0</td>\n",
       "      <td>34.0</td>\n",
       "      <td>4</td>\n",
       "      <td>1</td>\n",
       "      <td>0</td>\n",
       "      <td>1</td>\n",
       "      <td>NaN</td>\n",
       "      <td></td>\n",
       "      <td>65</td>\n",
       "      <td>81</td>\n",
       "    </tr>\n",
       "    <tr>\n",
       "      <th>4</th>\n",
       "      <td>009A52KP</td>\n",
       "      <td>NaN</td>\n",
       "      <td>0</td>\n",
       "      <td>1</td>\n",
       "      <td>0</td>\n",
       "      <td>1</td>\n",
       "      <td>0</td>\n",
       "      <td>25</td>\n",
       "      <td>9</td>\n",
       "      <td>1</td>\n",
       "      <td>59.0</td>\n",
       "      <td>4</td>\n",
       "      <td>NaN</td>\n",
       "      <td>1</td>\n",
       "      <td>1</td>\n",
       "      <td>0.0</td>\n",
       "      <td></td>\n",
       "      <td>65</td>\n",
       "      <td>110</td>\n",
       "    </tr>\n",
       "  </tbody>\n",
       "</table>\n",
       "</div>"
      ],
      "text/plain": [
       "     FAKEID  Y3defect  Y2G5  Y2G4  Y2G3  Y2G2  Y2G1  Y2price  YEARS  BACKER  \\\n",
       "0  580D24RR       NaN     0     0     1     1     0       15      5       0   \n",
       "1  179Q96NO       NaN     1     1     1     1     1       25      9       1   \n",
       "2  050Z45TB       NaN     1     0     1     1     0       15      5       1   \n",
       "3  399V18KY       NaN     0     0     1     1     0       15      1       0   \n",
       "4  009A52KP       NaN     0     1     0     1     0       25      9       1   \n",
       "\n",
       "    AGE INCOME CHILD GNDR OWNHOME  SPORT COMP  PCTMARR  HOMEVAL  \n",
       "0  49.0      4   NaN    0       1    0.0            66       64  \n",
       "1  84.0      5          0            0.0            67      128  \n",
       "2   NaN          NaN    0       0    NaN    1       52      113  \n",
       "3  34.0      4     1    0       1    NaN            65       81  \n",
       "4  59.0      4   NaN    1       1    0.0            65      110  "
      ]
     },
     "execution_count": 166,
     "metadata": {},
     "output_type": "execute_result"
    }
   ],
   "source": [
    "df2 = pd.read_excel(\"validation_dataset.xlsx\")\n",
    "df2.head()"
   ]
  },
  {
   "cell_type": "code",
   "execution_count": 167,
   "metadata": {
    "collapsed": true
   },
   "outputs": [],
   "source": [
    "#Matching test and validation dataframes\n",
    "\n",
    "df2 = df2.rename(columns={'Y2price': 'Y1price', 'Y3defect': 'Y2defect'})\n",
    "\n",
    "df2['GAMES_ATTENDED'] = df2['Y2G1'] + df2['Y2G2'] + df2['Y2G3'] + df2['Y2G4'] + df2['Y2G5']\n",
    "df2 = df2.drop(['Y2G1', 'Y2G2', 'Y2G3', 'Y2G4', 'Y2G5'], axis=1)"
   ]
  },
  {
   "cell_type": "code",
   "execution_count": 168,
   "metadata": {},
   "outputs": [
    {
     "data": {
      "text/html": [
       "<div>\n",
       "<style>\n",
       "    .dataframe thead tr:only-child th {\n",
       "        text-align: right;\n",
       "    }\n",
       "\n",
       "    .dataframe thead th {\n",
       "        text-align: left;\n",
       "    }\n",
       "\n",
       "    .dataframe tbody tr th {\n",
       "        vertical-align: top;\n",
       "    }\n",
       "</style>\n",
       "<table border=\"1\" class=\"dataframe\">\n",
       "  <thead>\n",
       "    <tr style=\"text-align: right;\">\n",
       "      <th></th>\n",
       "      <th>FAKEID</th>\n",
       "      <th>Y2defect</th>\n",
       "      <th>Y1price</th>\n",
       "      <th>YEARS</th>\n",
       "      <th>BACKER</th>\n",
       "      <th>AGE</th>\n",
       "      <th>INCOME</th>\n",
       "      <th>CHILD</th>\n",
       "      <th>GNDR</th>\n",
       "      <th>OWNHOME</th>\n",
       "      <th>SPORT</th>\n",
       "      <th>COMP</th>\n",
       "      <th>PCTMARR</th>\n",
       "      <th>HOMEVAL</th>\n",
       "      <th>GAMES_ATTENDED</th>\n",
       "    </tr>\n",
       "  </thead>\n",
       "  <tbody>\n",
       "    <tr>\n",
       "      <th>0</th>\n",
       "      <td>580D24RR</td>\n",
       "      <td>NaN</td>\n",
       "      <td>15</td>\n",
       "      <td>5</td>\n",
       "      <td>0</td>\n",
       "      <td>49.0</td>\n",
       "      <td>4.0</td>\n",
       "      <td>NaN</td>\n",
       "      <td>0.0</td>\n",
       "      <td>1.0</td>\n",
       "      <td>0.0</td>\n",
       "      <td>NaN</td>\n",
       "      <td>66</td>\n",
       "      <td>64</td>\n",
       "      <td>2</td>\n",
       "    </tr>\n",
       "    <tr>\n",
       "      <th>1</th>\n",
       "      <td>179Q96NO</td>\n",
       "      <td>NaN</td>\n",
       "      <td>25</td>\n",
       "      <td>9</td>\n",
       "      <td>1</td>\n",
       "      <td>84.0</td>\n",
       "      <td>5.0</td>\n",
       "      <td>NaN</td>\n",
       "      <td>0.0</td>\n",
       "      <td>NaN</td>\n",
       "      <td>0.0</td>\n",
       "      <td>NaN</td>\n",
       "      <td>67</td>\n",
       "      <td>128</td>\n",
       "      <td>5</td>\n",
       "    </tr>\n",
       "    <tr>\n",
       "      <th>2</th>\n",
       "      <td>050Z45TB</td>\n",
       "      <td>NaN</td>\n",
       "      <td>15</td>\n",
       "      <td>5</td>\n",
       "      <td>1</td>\n",
       "      <td>NaN</td>\n",
       "      <td>NaN</td>\n",
       "      <td>NaN</td>\n",
       "      <td>0.0</td>\n",
       "      <td>0.0</td>\n",
       "      <td>NaN</td>\n",
       "      <td>1.0</td>\n",
       "      <td>52</td>\n",
       "      <td>113</td>\n",
       "      <td>3</td>\n",
       "    </tr>\n",
       "    <tr>\n",
       "      <th>3</th>\n",
       "      <td>399V18KY</td>\n",
       "      <td>NaN</td>\n",
       "      <td>15</td>\n",
       "      <td>1</td>\n",
       "      <td>0</td>\n",
       "      <td>34.0</td>\n",
       "      <td>4.0</td>\n",
       "      <td>1.0</td>\n",
       "      <td>0.0</td>\n",
       "      <td>1.0</td>\n",
       "      <td>NaN</td>\n",
       "      <td>NaN</td>\n",
       "      <td>65</td>\n",
       "      <td>81</td>\n",
       "      <td>2</td>\n",
       "    </tr>\n",
       "    <tr>\n",
       "      <th>4</th>\n",
       "      <td>009A52KP</td>\n",
       "      <td>NaN</td>\n",
       "      <td>25</td>\n",
       "      <td>9</td>\n",
       "      <td>1</td>\n",
       "      <td>59.0</td>\n",
       "      <td>4.0</td>\n",
       "      <td>NaN</td>\n",
       "      <td>1.0</td>\n",
       "      <td>1.0</td>\n",
       "      <td>0.0</td>\n",
       "      <td>NaN</td>\n",
       "      <td>65</td>\n",
       "      <td>110</td>\n",
       "      <td>2</td>\n",
       "    </tr>\n",
       "  </tbody>\n",
       "</table>\n",
       "</div>"
      ],
      "text/plain": [
       "     FAKEID  Y2defect  Y1price  YEARS  BACKER   AGE  INCOME  CHILD  GNDR  \\\n",
       "0  580D24RR       NaN       15      5       0  49.0     4.0    NaN   0.0   \n",
       "1  179Q96NO       NaN       25      9       1  84.0     5.0    NaN   0.0   \n",
       "2  050Z45TB       NaN       15      5       1   NaN     NaN    NaN   0.0   \n",
       "3  399V18KY       NaN       15      1       0  34.0     4.0    1.0   0.0   \n",
       "4  009A52KP       NaN       25      9       1  59.0     4.0    NaN   1.0   \n",
       "\n",
       "   OWNHOME  SPORT  COMP  PCTMARR  HOMEVAL  GAMES_ATTENDED  \n",
       "0      1.0    0.0   NaN       66       64               2  \n",
       "1      NaN    0.0   NaN       67      128               5  \n",
       "2      0.0    NaN   1.0       52      113               3  \n",
       "3      1.0    NaN   NaN       65       81               2  \n",
       "4      1.0    0.0   NaN       65      110               2  "
      ]
     },
     "execution_count": 168,
     "metadata": {},
     "output_type": "execute_result"
    }
   ],
   "source": [
    "df2 = df2.replace(r'\\s+',np.nan,regex=True)\n",
    "df2.head()"
   ]
  },
  {
   "cell_type": "code",
   "execution_count": 169,
   "metadata": {
    "collapsed": true
   },
   "outputs": [],
   "source": [
    "df2 = df2.drop(['COMP'], axis=1)\n",
    "df2 = df2.drop(['CHILD'], axis=1)"
   ]
  },
  {
   "cell_type": "code",
   "execution_count": 170,
   "metadata": {},
   "outputs": [
    {
     "data": {
      "text/html": [
       "<div>\n",
       "<style>\n",
       "    .dataframe thead tr:only-child th {\n",
       "        text-align: right;\n",
       "    }\n",
       "\n",
       "    .dataframe thead th {\n",
       "        text-align: left;\n",
       "    }\n",
       "\n",
       "    .dataframe tbody tr th {\n",
       "        vertical-align: top;\n",
       "    }\n",
       "</style>\n",
       "<table border=\"1\" class=\"dataframe\">\n",
       "  <thead>\n",
       "    <tr style=\"text-align: right;\">\n",
       "      <th></th>\n",
       "      <th>FAKEID</th>\n",
       "      <th>Y2defect</th>\n",
       "      <th>Y1price</th>\n",
       "      <th>YEARS</th>\n",
       "      <th>BACKER</th>\n",
       "      <th>AGE</th>\n",
       "      <th>INCOME</th>\n",
       "      <th>GNDR</th>\n",
       "      <th>OWNHOME</th>\n",
       "      <th>SPORT</th>\n",
       "      <th>PCTMARR</th>\n",
       "      <th>HOMEVAL</th>\n",
       "      <th>GAMES_ATTENDED</th>\n",
       "    </tr>\n",
       "  </thead>\n",
       "  <tbody>\n",
       "    <tr>\n",
       "      <th>0</th>\n",
       "      <td>580D24RR</td>\n",
       "      <td>NaN</td>\n",
       "      <td>15</td>\n",
       "      <td>5</td>\n",
       "      <td>0</td>\n",
       "      <td>49.00000</td>\n",
       "      <td>4.000000</td>\n",
       "      <td>0.0</td>\n",
       "      <td>1.000000</td>\n",
       "      <td>0.000000</td>\n",
       "      <td>66</td>\n",
       "      <td>64</td>\n",
       "      <td>2</td>\n",
       "    </tr>\n",
       "    <tr>\n",
       "      <th>1</th>\n",
       "      <td>179Q96NO</td>\n",
       "      <td>NaN</td>\n",
       "      <td>25</td>\n",
       "      <td>9</td>\n",
       "      <td>1</td>\n",
       "      <td>84.00000</td>\n",
       "      <td>5.000000</td>\n",
       "      <td>0.0</td>\n",
       "      <td>0.670751</td>\n",
       "      <td>0.000000</td>\n",
       "      <td>67</td>\n",
       "      <td>128</td>\n",
       "      <td>5</td>\n",
       "    </tr>\n",
       "    <tr>\n",
       "      <th>2</th>\n",
       "      <td>050Z45TB</td>\n",
       "      <td>NaN</td>\n",
       "      <td>15</td>\n",
       "      <td>5</td>\n",
       "      <td>1</td>\n",
       "      <td>62.11141</td>\n",
       "      <td>2.879332</td>\n",
       "      <td>0.0</td>\n",
       "      <td>0.000000</td>\n",
       "      <td>0.072967</td>\n",
       "      <td>52</td>\n",
       "      <td>113</td>\n",
       "      <td>3</td>\n",
       "    </tr>\n",
       "    <tr>\n",
       "      <th>3</th>\n",
       "      <td>399V18KY</td>\n",
       "      <td>NaN</td>\n",
       "      <td>15</td>\n",
       "      <td>1</td>\n",
       "      <td>0</td>\n",
       "      <td>34.00000</td>\n",
       "      <td>4.000000</td>\n",
       "      <td>0.0</td>\n",
       "      <td>1.000000</td>\n",
       "      <td>0.072967</td>\n",
       "      <td>65</td>\n",
       "      <td>81</td>\n",
       "      <td>2</td>\n",
       "    </tr>\n",
       "    <tr>\n",
       "      <th>4</th>\n",
       "      <td>009A52KP</td>\n",
       "      <td>NaN</td>\n",
       "      <td>25</td>\n",
       "      <td>9</td>\n",
       "      <td>1</td>\n",
       "      <td>59.00000</td>\n",
       "      <td>4.000000</td>\n",
       "      <td>1.0</td>\n",
       "      <td>1.000000</td>\n",
       "      <td>0.000000</td>\n",
       "      <td>65</td>\n",
       "      <td>110</td>\n",
       "      <td>2</td>\n",
       "    </tr>\n",
       "  </tbody>\n",
       "</table>\n",
       "</div>"
      ],
      "text/plain": [
       "     FAKEID  Y2defect  Y1price  YEARS  BACKER       AGE    INCOME  GNDR  \\\n",
       "0  580D24RR       NaN       15      5       0  49.00000  4.000000   0.0   \n",
       "1  179Q96NO       NaN       25      9       1  84.00000  5.000000   0.0   \n",
       "2  050Z45TB       NaN       15      5       1  62.11141  2.879332   0.0   \n",
       "3  399V18KY       NaN       15      1       0  34.00000  4.000000   0.0   \n",
       "4  009A52KP       NaN       25      9       1  59.00000  4.000000   1.0   \n",
       "\n",
       "    OWNHOME     SPORT  PCTMARR  HOMEVAL  GAMES_ATTENDED  \n",
       "0  1.000000  0.000000       66       64               2  \n",
       "1  0.670751  0.000000       67      128               5  \n",
       "2  0.000000  0.072967       52      113               3  \n",
       "3  1.000000  0.072967       65       81               2  \n",
       "4  1.000000  0.000000       65      110               2  "
      ]
     },
     "execution_count": 170,
     "metadata": {},
     "output_type": "execute_result"
    }
   ],
   "source": [
    "#Calculating mean values\n",
    "AGE_Mean = df2['AGE'].mean()\n",
    "INCOME_Mean = df2['INCOME'].mean()\n",
    "GNDR_Mean = df2['GNDR'].mean()\n",
    "OWNHOME_Mean = df2['OWNHOME'].mean()\n",
    "SPORT_Mean = df2['SPORT'].mean()\n",
    "\n",
    "#Filling values\n",
    "values = {'AGE': AGE_Mean, 'INCOME': INCOME_Mean, 'GNDR': GNDR_Mean, 'OWNHOME': OWNHOME_Mean, 'SPORT': SPORT_Mean}\n",
    "df2 = df2.fillna(value=values)\n",
    "df2.head()"
   ]
  },
  {
   "cell_type": "code",
   "execution_count": 171,
   "metadata": {},
   "outputs": [
    {
     "name": "stdout",
     "output_type": "stream",
     "text": [
      "<class 'pandas.core.frame.DataFrame'>\n",
      "RangeIndex: 9542 entries, 0 to 9541\n",
      "Data columns (total 2 columns):\n",
      "BACKER            9542 non-null int64\n",
      "GAMES_ATTENDED    9542 non-null int64\n",
      "dtypes: int64(2)\n",
      "memory usage: 149.2 KB\n"
     ]
    }
   ],
   "source": [
    "validation = df2[['BACKER', 'GAMES_ATTENDED']] #All columns used in my model\n",
    "validation.info()"
   ]
  },
  {
   "cell_type": "code",
   "execution_count": 172,
   "metadata": {},
   "outputs": [
    {
     "data": {
      "text/html": [
       "<div>\n",
       "<style>\n",
       "    .dataframe thead tr:only-child th {\n",
       "        text-align: right;\n",
       "    }\n",
       "\n",
       "    .dataframe thead th {\n",
       "        text-align: left;\n",
       "    }\n",
       "\n",
       "    .dataframe tbody tr th {\n",
       "        vertical-align: top;\n",
       "    }\n",
       "</style>\n",
       "<table border=\"1\" class=\"dataframe\">\n",
       "  <thead>\n",
       "    <tr style=\"text-align: right;\">\n",
       "      <th></th>\n",
       "      <th>FAKEID</th>\n",
       "    </tr>\n",
       "  </thead>\n",
       "  <tbody>\n",
       "    <tr>\n",
       "      <th>0</th>\n",
       "      <td>580D24RR</td>\n",
       "    </tr>\n",
       "    <tr>\n",
       "      <th>1</th>\n",
       "      <td>179Q96NO</td>\n",
       "    </tr>\n",
       "    <tr>\n",
       "      <th>2</th>\n",
       "      <td>050Z45TB</td>\n",
       "    </tr>\n",
       "    <tr>\n",
       "      <th>3</th>\n",
       "      <td>399V18KY</td>\n",
       "    </tr>\n",
       "    <tr>\n",
       "      <th>4</th>\n",
       "      <td>009A52KP</td>\n",
       "    </tr>\n",
       "  </tbody>\n",
       "</table>\n",
       "</div>"
      ],
      "text/plain": [
       "     FAKEID\n",
       "0  580D24RR\n",
       "1  179Q96NO\n",
       "2  050Z45TB\n",
       "3  399V18KY\n",
       "4  009A52KP"
      ]
     },
     "execution_count": 172,
     "metadata": {},
     "output_type": "execute_result"
    }
   ],
   "source": [
    "fakeid = pd.DataFrame(df2['FAKEID'])\n",
    "fakeid.head()"
   ]
  },
  {
   "cell_type": "code",
   "execution_count": 173,
   "metadata": {
    "collapsed": true
   },
   "outputs": [],
   "source": [
    "# applying the Logistic Regression model to validation dataset\n",
    "output_scoring = lr2.predict(validation)\n",
    "\n",
    "# generating probability for defect for each fan\n",
    "probs = lr2.predict_proba(validation)\n",
    "probs = pd.DataFrame(probs, columns=['prob of Renewal', 'prob of Defect'])\n",
    "\n",
    "# joining two dataframes (fakeid and probability)\n",
    "risky_fans = fakeid.join(probs)\n",
    "\n",
    "# joining dataframes (fakeid, probability, and prediction)\n",
    "predicted_y= pd.DataFrame(output_scoring, columns=['Predicted Defect'])\n",
    "risky_fans = risky_fans.join(predicted_y)\n",
    "\n",
    "# generating submission file\n",
    "risky_fans.to_csv(\"submissionentry.csv\", index=False)"
   ]
  },
  {
   "cell_type": "markdown",
   "metadata": {},
   "source": [
    "# Final Analysis and Storytelling"
   ]
  },
  {
   "cell_type": "markdown",
   "metadata": {
    "collapsed": true
   },
   "source": [
    "In conclusion, I was able to develop a model predicting whether or not a season pass holder will renew their pass with 59.6% accuracy using only 5 factors.  The most important factors in making this prediction are YEAR, BACKER, AGE, SPORT, and GAMES_ATTENDED.  \n",
    "Kansas State University would be interested to know that people who are most likely to renew their season passes:\n",
    "1. Are backers\n",
    "2. Attend most of the games\n",
    "3. Are of an older age\n",
    "4. Have had season passes for several years\n",
    "5. Do not subscribe to sports magazines  \n",
    "\n",
    "Kansas State University should be on the lookout for people that fit the following criteria, as they are less likely to renew their season passes and should be contacted with promotions, reminders, etc.\n",
    "1. Own a season pass but are not backers\n",
    "2. Do not attend many games\n",
    "3. Are young\n",
    "4. Have only had a season pass for one season\n",
    "5. Subscribe to sports magazines  \n",
    "\n",
    "All of the factors listed are proven to be significant indicators of the likelihood to renew season passes.  However, if information is difficult to collect or incomplete, Kansas State University should prioritize the BACKER and GAMES_ATTENDED factors.  As shown in the Improved Model Development section above, you can predict the likelihood of a season pass holder renewing their season pass using just the BACKER and GAMES_ATTENDED factors and only sacrifice 0.4% accuracy.  In my opinion, this is the best model for Kansas State University to use because it is not only the simplest model (utilizing just two factors), but both factors are internal information that Kansas State University would already have access to and would not require any additional information gathering via emails, surveys, etc.\n",
    "\n",
    "If Kansas State University were able to collect additional information, I believe that the following information could be beneficial in predicting whether or not a season pass holder would renew their pass:\n",
    "1. The win/loss record of the team for the previous season\n",
    "2. If the season pass holder had a child attending Kansas State University that year (and if they were graduating)\n",
    "3. If the season pass holder had a child playing on the team that year (and if they were graduating)\n",
    "4. The team's predicted standings for the upcoming season"
   ]
  },
  {
   "cell_type": "code",
   "execution_count": null,
   "metadata": {
    "collapsed": true
   },
   "outputs": [],
   "source": []
  }
 ],
 "metadata": {
  "kernelspec": {
   "display_name": "Python 2",
   "language": "python",
   "name": "python2"
  },
  "language_info": {
   "codemirror_mode": {
    "name": "ipython",
    "version": 2
   },
   "file_extension": ".py",
   "mimetype": "text/x-python",
   "name": "python",
   "nbconvert_exporter": "python",
   "pygments_lexer": "ipython2",
   "version": "2.7.14"
  }
 },
 "nbformat": 4,
 "nbformat_minor": 2
}
